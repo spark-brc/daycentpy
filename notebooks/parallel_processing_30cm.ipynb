{
 "cells": [
  {
   "cell_type": "code",
   "execution_count": 1,
   "id": "df520bd2",
   "metadata": {},
   "outputs": [],
   "source": [
    "import spotpy\n",
    "import os\n",
    "import sys\n",
    "import pandas as pd\n",
    "import numpy as np\n",
    "import subprocess\n",
    "import shutil"
   ]
  },
  {
   "cell_type": "code",
   "execution_count": 2,
   "id": "b96273a5",
   "metadata": {},
   "outputs": [],
   "source": [
    "sys.path.insert(1, 'd:/Projects/Tools/daycentpy_git')"
   ]
  },
  {
   "cell_type": "code",
   "execution_count": 3,
   "id": "46880e07",
   "metadata": {},
   "outputs": [],
   "source": [
    "from daycentpy import dc_handler"
   ]
  },
  {
   "cell_type": "markdown",
   "id": "589958b3",
   "metadata": {},
   "source": [
    "- Set a working directory as project folder\n",
    "- provide a path to your model folder"
   ]
  },
  {
   "cell_type": "code",
   "execution_count": 4,
   "id": "36e065dd",
   "metadata": {},
   "outputs": [],
   "source": [
    "pwd = \"d:/Projects/Tools/DayCent-CUTE/analysis/cali/\"\n",
    "md = \"d:/Projects/Tools/DayCent-CUTE/analysis/Wooster/\""
   ]
  },
  {
   "cell_type": "code",
   "execution_count": 5,
   "id": "1614bc5a",
   "metadata": {},
   "outputs": [
    {
     "name": "stdout",
     "output_type": "stream",
     "text": [
      "    We found DayCent parameter base file.\n",
      "    Open the file and select parameters you are goint to use ..., \n",
      "    then save it as 'seleted_pars.csv'.\n"
     ]
    }
   ],
   "source": [
    "m1 = dc_handler.DCinit(pwd, md)"
   ]
  },
  {
   "cell_type": "code",
   "execution_count": 6,
   "id": "0cc3aa3d",
   "metadata": {},
   "outputs": [
    {
     "data": {
      "text/plain": [
       "'d:\\\\Projects\\\\Tools\\\\DayCent-CUTE\\\\analysis\\\\cali'"
      ]
     },
     "execution_count": 6,
     "metadata": {},
     "output_type": "execute_result"
    }
   ],
   "source": [
    "os.getcwd()"
   ]
  },
  {
   "cell_type": "code",
   "execution_count": 7,
   "id": "a383e066",
   "metadata": {},
   "outputs": [
    {
     "name": "stdout",
     "output_type": "stream",
     "text": [
      "You have selected a total of 26 parameters.\n"
     ]
    }
   ],
   "source": [
    "sel_pars_df = m1.read_sel_dc_pars()"
   ]
  },
  {
   "cell_type": "code",
   "execution_count": 8,
   "id": "db332540",
   "metadata": {},
   "outputs": [
    {
     "data": {
      "text/html": [
       "<div>\n",
       "<style scoped>\n",
       "    .dataframe tbody tr th:only-of-type {\n",
       "        vertical-align: middle;\n",
       "    }\n",
       "\n",
       "    .dataframe tbody tr th {\n",
       "        vertical-align: top;\n",
       "    }\n",
       "\n",
       "    .dataframe thead th {\n",
       "        text-align: right;\n",
       "    }\n",
       "</style>\n",
       "<table border=\"1\" class=\"dataframe\">\n",
       "  <thead>\n",
       "    <tr style=\"text-align: right;\">\n",
       "      <th></th>\n",
       "      <th>name</th>\n",
       "      <th>select</th>\n",
       "      <th>default</th>\n",
       "      <th>min</th>\n",
       "      <th>max</th>\n",
       "      <th>category</th>\n",
       "    </tr>\n",
       "  </thead>\n",
       "  <tbody>\n",
       "    <tr>\n",
       "      <th>1</th>\n",
       "      <td>ANEREF(2)</td>\n",
       "      <td>1</td>\n",
       "      <td>3.000000</td>\n",
       "      <td>2.800000</td>\n",
       "      <td>5.0000</td>\n",
       "      <td>fix</td>\n",
       "    </tr>\n",
       "    <tr>\n",
       "      <th>2</th>\n",
       "      <td>ANEREF(3)</td>\n",
       "      <td>1</td>\n",
       "      <td>1.000000</td>\n",
       "      <td>0.200000</td>\n",
       "      <td>1.1000</td>\n",
       "      <td>fix</td>\n",
       "    </tr>\n",
       "    <tr>\n",
       "      <th>9</th>\n",
       "      <td>DEC3(1)</td>\n",
       "      <td>1</td>\n",
       "      <td>6.000000</td>\n",
       "      <td>4.000000</td>\n",
       "      <td>8.0000</td>\n",
       "      <td>fix</td>\n",
       "    </tr>\n",
       "    <tr>\n",
       "      <th>11</th>\n",
       "      <td>DEC4</td>\n",
       "      <td>1</td>\n",
       "      <td>0.004300</td>\n",
       "      <td>0.001000</td>\n",
       "      <td>0.0050</td>\n",
       "      <td>fix</td>\n",
       "    </tr>\n",
       "    <tr>\n",
       "      <th>12</th>\n",
       "      <td>DEC5(2)</td>\n",
       "      <td>1</td>\n",
       "      <td>0.120000</td>\n",
       "      <td>0.070000</td>\n",
       "      <td>0.2500</td>\n",
       "      <td>fix</td>\n",
       "    </tr>\n",
       "    <tr>\n",
       "      <th>20</th>\n",
       "      <td>FWLOSS(4)</td>\n",
       "      <td>1</td>\n",
       "      <td>0.750000</td>\n",
       "      <td>0.200000</td>\n",
       "      <td>2.0000</td>\n",
       "      <td>fix</td>\n",
       "    </tr>\n",
       "    <tr>\n",
       "      <th>21</th>\n",
       "      <td>OMLECH(1)</td>\n",
       "      <td>1</td>\n",
       "      <td>0.030000</td>\n",
       "      <td>0.000001</td>\n",
       "      <td>1.0000</td>\n",
       "      <td>fix</td>\n",
       "    </tr>\n",
       "    <tr>\n",
       "      <th>24</th>\n",
       "      <td>P1CO2A(2)</td>\n",
       "      <td>1</td>\n",
       "      <td>0.170000</td>\n",
       "      <td>0.100000</td>\n",
       "      <td>0.2500</td>\n",
       "      <td>fix</td>\n",
       "    </tr>\n",
       "    <tr>\n",
       "      <th>25</th>\n",
       "      <td>P1CO2B(2)</td>\n",
       "      <td>1</td>\n",
       "      <td>0.680000</td>\n",
       "      <td>0.550000</td>\n",
       "      <td>0.7400</td>\n",
       "      <td>fix</td>\n",
       "    </tr>\n",
       "    <tr>\n",
       "      <th>26</th>\n",
       "      <td>P2CO2(2)</td>\n",
       "      <td>1</td>\n",
       "      <td>0.550000</td>\n",
       "      <td>0.500000</td>\n",
       "      <td>0.8000</td>\n",
       "      <td>fix</td>\n",
       "    </tr>\n",
       "    <tr>\n",
       "      <th>27</th>\n",
       "      <td>P3CO2</td>\n",
       "      <td>1</td>\n",
       "      <td>0.550000</td>\n",
       "      <td>0.500000</td>\n",
       "      <td>0.9000</td>\n",
       "      <td>fix</td>\n",
       "    </tr>\n",
       "    <tr>\n",
       "      <th>31</th>\n",
       "      <td>PMCO2(2)</td>\n",
       "      <td>1</td>\n",
       "      <td>0.550000</td>\n",
       "      <td>0.350000</td>\n",
       "      <td>0.7000</td>\n",
       "      <td>fix</td>\n",
       "    </tr>\n",
       "    <tr>\n",
       "      <th>32</th>\n",
       "      <td>PS1CO2(2)</td>\n",
       "      <td>1</td>\n",
       "      <td>0.550000</td>\n",
       "      <td>0.400000</td>\n",
       "      <td>0.8000</td>\n",
       "      <td>fix</td>\n",
       "    </tr>\n",
       "    <tr>\n",
       "      <th>33</th>\n",
       "      <td>PS1S3(1)</td>\n",
       "      <td>1</td>\n",
       "      <td>0.003000</td>\n",
       "      <td>0.002000</td>\n",
       "      <td>0.0050</td>\n",
       "      <td>fix</td>\n",
       "    </tr>\n",
       "    <tr>\n",
       "      <th>34</th>\n",
       "      <td>PS1S3(2)</td>\n",
       "      <td>1</td>\n",
       "      <td>0.032000</td>\n",
       "      <td>0.020000</td>\n",
       "      <td>0.0600</td>\n",
       "      <td>fix</td>\n",
       "    </tr>\n",
       "    <tr>\n",
       "      <th>35</th>\n",
       "      <td>PS2S3(1)</td>\n",
       "      <td>1</td>\n",
       "      <td>0.003000</td>\n",
       "      <td>0.002000</td>\n",
       "      <td>0.0050</td>\n",
       "      <td>fix</td>\n",
       "    </tr>\n",
       "    <tr>\n",
       "      <th>36</th>\n",
       "      <td>PS2S3(2)</td>\n",
       "      <td>1</td>\n",
       "      <td>0.009000</td>\n",
       "      <td>0.006000</td>\n",
       "      <td>0.0130</td>\n",
       "      <td>fix</td>\n",
       "    </tr>\n",
       "    <tr>\n",
       "      <th>40</th>\n",
       "      <td>TEFF(1)</td>\n",
       "      <td>1</td>\n",
       "      <td>15.400000</td>\n",
       "      <td>5.000000</td>\n",
       "      <td>30.0000</td>\n",
       "      <td>fix</td>\n",
       "    </tr>\n",
       "    <tr>\n",
       "      <th>41</th>\n",
       "      <td>TEFF(2)</td>\n",
       "      <td>1</td>\n",
       "      <td>0.150000</td>\n",
       "      <td>0.050000</td>\n",
       "      <td>0.3000</td>\n",
       "      <td>fix</td>\n",
       "    </tr>\n",
       "    <tr>\n",
       "      <th>42</th>\n",
       "      <td>WEFF(1)</td>\n",
       "      <td>1</td>\n",
       "      <td>30.000000</td>\n",
       "      <td>25.000000</td>\n",
       "      <td>35.0000</td>\n",
       "      <td>fix</td>\n",
       "    </tr>\n",
       "    <tr>\n",
       "      <th>43</th>\n",
       "      <td>WEFF(2)</td>\n",
       "      <td>1</td>\n",
       "      <td>9.000000</td>\n",
       "      <td>6.000000</td>\n",
       "      <td>15.0000</td>\n",
       "      <td>fix</td>\n",
       "    </tr>\n",
       "    <tr>\n",
       "      <th>48</th>\n",
       "      <td>dmp</td>\n",
       "      <td>1</td>\n",
       "      <td>0.003000</td>\n",
       "      <td>0.001000</td>\n",
       "      <td>0.0100</td>\n",
       "      <td>site</td>\n",
       "    </tr>\n",
       "    <tr>\n",
       "      <th>49</th>\n",
       "      <td>dmpflux</td>\n",
       "      <td>1</td>\n",
       "      <td>0.000008</td>\n",
       "      <td>0.000001</td>\n",
       "      <td>0.0001</td>\n",
       "      <td>site</td>\n",
       "    </tr>\n",
       "    <tr>\n",
       "      <th>60</th>\n",
       "      <td>FBM</td>\n",
       "      <td>1</td>\n",
       "      <td>0.030000</td>\n",
       "      <td>0.010000</td>\n",
       "      <td>0.0500</td>\n",
       "      <td>site</td>\n",
       "    </tr>\n",
       "    <tr>\n",
       "      <th>61</th>\n",
       "      <td>FHP</td>\n",
       "      <td>1</td>\n",
       "      <td>0.680000</td>\n",
       "      <td>0.300000</td>\n",
       "      <td>0.7000</td>\n",
       "      <td>site</td>\n",
       "    </tr>\n",
       "    <tr>\n",
       "      <th>62</th>\n",
       "      <td>Till_Eff</td>\n",
       "      <td>1</td>\n",
       "      <td>10.000000</td>\n",
       "      <td>5.000000</td>\n",
       "      <td>15.0000</td>\n",
       "      <td>site</td>\n",
       "    </tr>\n",
       "  </tbody>\n",
       "</table>\n",
       "</div>"
      ],
      "text/plain": [
       "         name  select    default        min      max category\n",
       "1   ANEREF(2)       1   3.000000   2.800000   5.0000      fix\n",
       "2   ANEREF(3)       1   1.000000   0.200000   1.1000      fix\n",
       "9     DEC3(1)       1   6.000000   4.000000   8.0000      fix\n",
       "11       DEC4       1   0.004300   0.001000   0.0050      fix\n",
       "12    DEC5(2)       1   0.120000   0.070000   0.2500      fix\n",
       "20  FWLOSS(4)       1   0.750000   0.200000   2.0000      fix\n",
       "21  OMLECH(1)       1   0.030000   0.000001   1.0000      fix\n",
       "24  P1CO2A(2)       1   0.170000   0.100000   0.2500      fix\n",
       "25  P1CO2B(2)       1   0.680000   0.550000   0.7400      fix\n",
       "26   P2CO2(2)       1   0.550000   0.500000   0.8000      fix\n",
       "27      P3CO2       1   0.550000   0.500000   0.9000      fix\n",
       "31   PMCO2(2)       1   0.550000   0.350000   0.7000      fix\n",
       "32  PS1CO2(2)       1   0.550000   0.400000   0.8000      fix\n",
       "33   PS1S3(1)       1   0.003000   0.002000   0.0050      fix\n",
       "34   PS1S3(2)       1   0.032000   0.020000   0.0600      fix\n",
       "35   PS2S3(1)       1   0.003000   0.002000   0.0050      fix\n",
       "36   PS2S3(2)       1   0.009000   0.006000   0.0130      fix\n",
       "40    TEFF(1)       1  15.400000   5.000000  30.0000      fix\n",
       "41    TEFF(2)       1   0.150000   0.050000   0.3000      fix\n",
       "42    WEFF(1)       1  30.000000  25.000000  35.0000      fix\n",
       "43    WEFF(2)       1   9.000000   6.000000  15.0000      fix\n",
       "48        dmp       1   0.003000   0.001000   0.0100     site\n",
       "49    dmpflux       1   0.000008   0.000001   0.0001     site\n",
       "60        FBM       1   0.030000   0.010000   0.0500     site\n",
       "61        FHP       1   0.680000   0.300000   0.7000     site\n",
       "62   Till_Eff       1  10.000000   5.000000  15.0000     site"
      ]
     },
     "execution_count": 8,
     "metadata": {},
     "output_type": "execute_result"
    }
   ],
   "source": [
    "sel_pars_df"
   ]
  },
  {
   "cell_type": "code",
   "execution_count": 9,
   "id": "b7dc0dc0",
   "metadata": {},
   "outputs": [
    {
     "data": {
      "text/plain": [
       "'d:\\\\Projects\\\\Tools\\\\DayCent-CUTE\\\\analysis\\\\cali'"
      ]
     },
     "execution_count": 9,
     "metadata": {},
     "output_type": "execute_result"
    }
   ],
   "source": [
    "os.getcwd()"
   ]
  },
  {
   "cell_type": "code",
   "execution_count": 10,
   "id": "d107e410",
   "metadata": {},
   "outputs": [],
   "source": [
    "os.chdir(os.path.join(os.getcwd(),'main'))"
   ]
  },
  {
   "cell_type": "code",
   "execution_count": 11,
   "id": "f9761214",
   "metadata": {},
   "outputs": [
    {
     "name": "stdout",
     "output_type": "stream",
     "text": [
      "\n",
      "  Simulation start ...\n",
      "  Simulation complete ...\n",
      "  extracting simulation outputs ...\n",
      "  Simulation complete ...\n",
      "  extracting simulation outputs ...\n",
      "  Simulation complete ...\n",
      "  extracting simulation outputs ...\n",
      "  Simulation complete ...\n",
      "  extracting simulation outputs ...\n"
     ]
    }
   ],
   "source": [
    "with open(\"DayCentRUN.DAT\", \"r\") as f:\n",
    "    data = [x.strip().split() for x in f]\n",
    "print('')\n",
    "print('  Simulation start ...')\n",
    "\n",
    "for l, i in enumerate(range(len(data))):\n",
    "    if len(data[i]) == 0:\n",
    "        mlines = l\n",
    "# mlines indicate only lines for model info\n",
    "for i in range(mlines):\n",
    "    if os.path.isfile(data[i][1]+\".bin\"):\n",
    "        os.remove(data[i][1]+\".bin\")\n",
    "    if len(data[i]) > 2:\n",
    "        comline = 'DDcentEVI.exe -s {} -n {} -e {}'.format(data[i][1], data[i][1], data[i][3])\n",
    "    else:\n",
    "        comline = 'DDcentEVI.exe -s {} -n {}'.format(data[i][1], data[i][1])\n",
    "    run_model = subprocess.Popen(comline, cwd=\".\", stdout=subprocess.DEVNULL)\n",
    "#     run_model = subprocess.Popen(comline, cwd=\".\")\n",
    "    run_model.wait()\n",
    "    comline2 = 'DDlist100.exe {} {} {}'.format(data[i][1], data[i][1], 'outvars.txt')\n",
    "    # os.system(\"start cmd {}\".format(comline2))\n",
    "    extract_model = subprocess.Popen(comline2, cwd=\".\", stdout=subprocess.DEVNULL)\n",
    "    extract_model.wait()\n",
    "    print('  Simulation complete ...')\n",
    "    print('  extracting simulation outputs ...')"
   ]
  },
  {
   "cell_type": "code",
   "execution_count": 12,
   "id": "35d62024",
   "metadata": {},
   "outputs": [],
   "source": [
    "wd = os.getcwd()"
   ]
  },
  {
   "cell_type": "code",
   "execution_count": 13,
   "id": "bab47541",
   "metadata": {},
   "outputs": [
    {
     "name": "stdout",
     "output_type": "stream",
     "text": [
      "d:\\Projects\\Tools\\DayCent-CUTE\\analysis\\cali\\main\n"
     ]
    }
   ],
   "source": [
    "print(wd)"
   ]
  },
  {
   "cell_type": "code",
   "execution_count": null,
   "id": "7475d679",
   "metadata": {},
   "outputs": [],
   "source": []
  },
  {
   "cell_type": "code",
   "execution_count": null,
   "id": "7487cda6",
   "metadata": {},
   "outputs": [],
   "source": []
  },
  {
   "cell_type": "code",
   "execution_count": null,
   "id": "e3e475a7",
   "metadata": {},
   "outputs": [],
   "source": []
  },
  {
   "cell_type": "code",
   "execution_count": null,
   "id": "778f00b0",
   "metadata": {},
   "outputs": [],
   "source": []
  },
  {
   "cell_type": "code",
   "execution_count": null,
   "id": "ff11afb6",
   "metadata": {},
   "outputs": [],
   "source": []
  },
  {
   "cell_type": "code",
   "execution_count": null,
   "id": "a8ce2218",
   "metadata": {},
   "outputs": [],
   "source": []
  },
  {
   "cell_type": "code",
   "execution_count": null,
   "id": "70195648",
   "metadata": {},
   "outputs": [],
   "source": []
  },
  {
   "cell_type": "code",
   "execution_count": null,
   "id": "0389f6b7",
   "metadata": {},
   "outputs": [],
   "source": []
  }
 ],
 "metadata": {
  "kernelspec": {
   "display_name": "Python 3 (ipykernel)",
   "language": "python",
   "name": "python3"
  },
  "language_info": {
   "codemirror_mode": {
    "name": "ipython",
    "version": 3
   },
   "file_extension": ".py",
   "mimetype": "text/x-python",
   "name": "python",
   "nbconvert_exporter": "python",
   "pygments_lexer": "ipython3",
   "version": "3.11.0"
  },
  "vscode": {
   "interpreter": {
    "hash": "1c3d6adcba5cb95baad817a9a2bacdcf7a7b35120200bfc0a215c27640824492"
   }
  }
 },
 "nbformat": 4,
 "nbformat_minor": 5
}
