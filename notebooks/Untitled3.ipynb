{
 "cells": [
  {
   "cell_type": "code",
   "execution_count": 1,
   "id": "c05d8e93",
   "metadata": {},
   "outputs": [],
   "source": [
    "from mpi4py import MPI"
   ]
  },
  {
   "cell_type": "code",
   "execution_count": 2,
   "id": "2ef26939",
   "metadata": {},
   "outputs": [],
   "source": [
    "comm = MPI.COMM_WORLD"
   ]
  },
  {
   "cell_type": "code",
   "execution_count": 3,
   "id": "94f089cc",
   "metadata": {},
   "outputs": [
    {
     "data": {
      "text/plain": [
       "<mpi4py.MPI.Intracomm at 0x25ebe6c4b70>"
      ]
     },
     "execution_count": 3,
     "metadata": {},
     "output_type": "execute_result"
    }
   ],
   "source": [
    "comm"
   ]
  },
  {
   "cell_type": "code",
   "execution_count": 4,
   "id": "9292511e",
   "metadata": {},
   "outputs": [],
   "source": [
    "mpi_size = comm.Get_size()"
   ]
  },
  {
   "cell_type": "code",
   "execution_count": 5,
   "id": "a2da5636",
   "metadata": {},
   "outputs": [
    {
     "data": {
      "text/plain": [
       "1"
      ]
     },
     "execution_count": 5,
     "metadata": {},
     "output_type": "execute_result"
    }
   ],
   "source": [
    "mpi_size"
   ]
  },
  {
   "cell_type": "code",
   "execution_count": 6,
   "id": "c880b50b",
   "metadata": {},
   "outputs": [
    {
     "data": {
      "text/plain": [
       "0"
      ]
     },
     "execution_count": 6,
     "metadata": {},
     "output_type": "execute_result"
    }
   ],
   "source": [
    "mpi_rank = comm.Get_rank()\n",
    "mpi_rank"
   ]
  },
  {
   "cell_type": "code",
   "execution_count": 8,
   "id": "9c8736a5",
   "metadata": {},
   "outputs": [],
   "source": [
    "import os"
   ]
  },
  {
   "cell_type": "code",
   "execution_count": 9,
   "id": "dd850e45",
   "metadata": {},
   "outputs": [
    {
     "ename": "KeyError",
     "evalue": "'OMPI_COMM_WORLD_RANK'",
     "output_type": "error",
     "traceback": [
      "\u001b[1;31m---------------------------------------------------------------------------\u001b[0m",
      "\u001b[1;31mKeyError\u001b[0m                                  Traceback (most recent call last)",
      "Cell \u001b[1;32mIn [9], line 1\u001b[0m\n\u001b[1;32m----> 1\u001b[0m call \u001b[38;5;241m=\u001b[39m \u001b[38;5;28mstr\u001b[39m(\u001b[38;5;28mint\u001b[39m(\u001b[43mos\u001b[49m\u001b[38;5;241;43m.\u001b[39;49m\u001b[43menviron\u001b[49m\u001b[43m[\u001b[49m\u001b[38;5;124;43m\"\u001b[39;49m\u001b[38;5;124;43mOMPI_COMM_WORLD_RANK\u001b[39;49m\u001b[38;5;124;43m\"\u001b[39;49m\u001b[43m]\u001b[49m) \u001b[38;5;241m+\u001b[39m \u001b[38;5;241m2\u001b[39m)\n",
      "File \u001b[1;32m~\\Miniconda3\\envs\\spotpy\\lib\\os.py:679\u001b[0m, in \u001b[0;36m_Environ.__getitem__\u001b[1;34m(self, key)\u001b[0m\n\u001b[0;32m    676\u001b[0m     value \u001b[38;5;241m=\u001b[39m \u001b[38;5;28mself\u001b[39m\u001b[38;5;241m.\u001b[39m_data[\u001b[38;5;28mself\u001b[39m\u001b[38;5;241m.\u001b[39mencodekey(key)]\n\u001b[0;32m    677\u001b[0m \u001b[38;5;28;01mexcept\u001b[39;00m \u001b[38;5;167;01mKeyError\u001b[39;00m:\n\u001b[0;32m    678\u001b[0m     \u001b[38;5;66;03m# raise KeyError with the original key value\u001b[39;00m\n\u001b[1;32m--> 679\u001b[0m     \u001b[38;5;28;01mraise\u001b[39;00m \u001b[38;5;167;01mKeyError\u001b[39;00m(key) \u001b[38;5;28;01mfrom\u001b[39;00m \u001b[38;5;28mNone\u001b[39m\n\u001b[0;32m    680\u001b[0m \u001b[38;5;28;01mreturn\u001b[39;00m \u001b[38;5;28mself\u001b[39m\u001b[38;5;241m.\u001b[39mdecodevalue(value)\n",
      "\u001b[1;31mKeyError\u001b[0m: 'OMPI_COMM_WORLD_RANK'"
     ]
    }
   ],
   "source": [
    "call = str(int(os.environ[\"OMPI_COMM_WORLD_RANK\"]) + 2)"
   ]
  },
  {
   "cell_type": "code",
   "execution_count": 11,
   "id": "95e6a4af",
   "metadata": {},
   "outputs": [
    {
     "data": {
      "text/plain": [
       "18144"
      ]
     },
     "execution_count": 11,
     "metadata": {},
     "output_type": "execute_result"
    }
   ],
   "source": [
    "os.getpid()"
   ]
  },
  {
   "cell_type": "code",
   "execution_count": 12,
   "id": "777848f4",
   "metadata": {},
   "outputs": [
    {
     "data": {
      "text/plain": [
       "environ{'AGSDESKTOPJAVA': 'C:\\\\Program Files (x86)\\\\ArcGIS\\\\Desktop10.7\\\\',\n",
       "        'ALLUSERSPROFILE': 'C:\\\\ProgramData',\n",
       "        'APPDATA': 'C:\\\\Users\\\\seonggyu.park\\\\AppData\\\\Roaming',\n",
       "        'COMMONPROGRAMFILES': 'C:\\\\Program Files\\\\Common Files',\n",
       "        'COMMONPROGRAMFILES(X86)': 'C:\\\\Program Files (x86)\\\\Common Files',\n",
       "        'COMMONPROGRAMW6432': 'C:\\\\Program Files\\\\Common Files',\n",
       "        'COMPUTERNAME': 'TEMP-09705-D',\n",
       "        'COMSPEC': 'C:\\\\WINDOWS\\\\system32\\\\cmd.exe',\n",
       "        'CONDA_DEFAULT_ENV': 'spotpy',\n",
       "        'CONDA_EXE': 'C:\\\\Users\\\\seonggyu.park\\\\Miniconda3\\\\Scripts\\\\conda.exe',\n",
       "        'CONDA_PREFIX': 'C:\\\\Users\\\\seonggyu.park\\\\Miniconda3\\\\envs\\\\spotpy',\n",
       "        'CONDA_PREFIX_1': 'C:\\\\Users\\\\seonggyu.park\\\\Miniconda3',\n",
       "        'CONDA_PROMPT_MODIFIER': '(spotpy) ',\n",
       "        'CONDA_PYTHON_EXE': 'C:\\\\Users\\\\seonggyu.park\\\\Miniconda3\\\\python.exe',\n",
       "        'CONDA_SHLVL': '2',\n",
       "        'DRIVERDATA': 'C:\\\\Windows\\\\System32\\\\Drivers\\\\DriverData',\n",
       "        'GDAL_DATA': 'C:\\\\APEX\\\\ArcAPEX\\\\Databases\\\\GridDelineation\\\\geospatial\\\\bin\\\\osgeo\\\\data\\\\gdal',\n",
       "        'HOMEDRIVE': 'C:',\n",
       "        'HOMEPATH': '\\\\Users\\\\seonggyu.park',\n",
       "        'IFORT_COMPILER20': 'C:\\\\Program Files (x86)\\\\IntelSWTools\\\\compilers_and_libraries_2020.1.216\\\\windows\\\\',\n",
       "        'INTEL_DEV_REDIST': 'C:\\\\Program Files (x86)\\\\Common Files\\\\Intel\\\\Shared Libraries\\\\',\n",
       "        'INTEL_LICENSE_FILE': 'C:\\\\Program Files (x86)\\\\Common Files\\\\Intel\\\\Licenses',\n",
       "        'LDMS_LOCAL_DIR': 'C:\\\\Program Files (x86)\\\\LANDesk\\\\LDClient\\\\Data',\n",
       "        'LDMS_PREFERRED_SERVER': 'Ivanti.agnet.tamu.edu',\n",
       "        'LOCALAPPDATA': 'C:\\\\Users\\\\seonggyu.park\\\\AppData\\\\Local',\n",
       "        'LOGONSERVER': '\\\\\\\\DC-FT02',\n",
       "        'MSMPI_BENCHMARKS': 'C:\\\\Program Files\\\\Microsoft MPI\\\\Benchmarks\\\\',\n",
       "        'MSMPI_BIN': 'C:\\\\Program Files\\\\Microsoft MPI\\\\Bin\\\\',\n",
       "        'NODE_PATH': 'C:\\\\Users\\\\seonggyu.park\\\\scoop\\\\apps\\\\yarn\\\\current\\\\global\\\\node_modules',\n",
       "        'NUMBER_OF_PROCESSORS': '32',\n",
       "        'NVM_HOME': 'C:\\\\Users\\\\seonggyu.park\\\\scoop\\\\apps\\\\nvm\\\\current',\n",
       "        'NVM_SYMLINK': 'C:\\\\Users\\\\seonggyu.park\\\\scoop\\\\persist\\\\nvm\\\\nodejs\\\\nodejs',\n",
       "        'ONEDRIVE': 'C:\\\\Users\\\\seonggyu.park\\\\OneDrive - Texas A&M AgriLife',\n",
       "        'ONEDRIVECOMMERCIAL': 'C:\\\\Users\\\\seonggyu.park\\\\OneDrive - Texas A&M AgriLife',\n",
       "        'OS': 'Windows_NT',\n",
       "        'PATH': 'C:\\\\Users\\\\seonggyu.park\\\\Documents\\\\powershell\\\\Modules\\\\oh-my-posh;C:\\\\Users\\\\seonggyu.park\\\\Miniconda3\\\\envs\\\\spotpy;C:\\\\Users\\\\seonggyu.park\\\\Miniconda3\\\\envs\\\\spotpy\\\\Library\\\\mingw-w64\\\\bin;C:\\\\Users\\\\seonggyu.park\\\\Miniconda3\\\\envs\\\\spotpy\\\\Library\\\\usr\\\\bin;C:\\\\Users\\\\seonggyu.park\\\\Miniconda3\\\\envs\\\\spotpy\\\\Library\\\\bin;C:\\\\Users\\\\seonggyu.park\\\\Miniconda3\\\\envs\\\\spotpy\\\\Scripts;C:\\\\Users\\\\seonggyu.park\\\\Miniconda3\\\\envs\\\\spotpy\\\\bin;C:\\\\Users\\\\seonggyu.park\\\\Miniconda3\\\\condabin;C:\\\\Program Files\\\\WindowsApps\\\\Microsoft.PowerShell_7.3.1.0_x64__8wekyb3d8bbwe;C:\\\\Program Files\\\\Microsoft MPI\\\\Bin;C:\\\\Users\\\\seonggyu.park\\\\Music;C:\\\\Program Files (x86)\\\\Common Files\\\\Intel\\\\Shared Libraries\\\\redist\\\\intel64_win\\\\mpirt;C:\\\\Program Files (x86)\\\\Common Files\\\\Intel\\\\Shared Libraries\\\\redist\\\\ia32_win\\\\mpirt;C:\\\\Program Files (x86)\\\\Common Files\\\\Intel\\\\Shared Libraries\\\\redist\\\\intel64_win\\\\compiler;C:\\\\Program Files (x86)\\\\Common Files\\\\Intel\\\\Shared Libraries\\\\redist\\\\ia32_win\\\\compiler;C:\\\\WINDOWS\\\\system32;C:\\\\WINDOWS;C:\\\\WINDOWS\\\\System32\\\\Wbem;C:\\\\WINDOWS\\\\System32\\\\WindowsPowerShell\\\\v1.0;C:\\\\WINDOWS\\\\System32\\\\OpenSSH;C:\\\\Program Files\\\\dotnet;C:\\\\Users\\\\seonggyu.park.a\\\\AppData\\\\Roaming\\\\nvm;C:\\\\Program Files\\\\nodejs;C:\\\\Users\\\\seonggyu.park\\\\scoop\\\\apps\\\\yarn\\\\current\\\\global\\\\node_modules\\\\.bin;C:\\\\Users\\\\seonggyu.park\\\\scoop\\\\apps\\\\yarn\\\\current\\\\bin;C:\\\\Users\\\\seonggyu.park\\\\scoop\\\\apps\\\\nvm\\\\current\\\\nodejs\\\\nodejs;C:\\\\Users\\\\seonggyu.park\\\\scoop\\\\shims;C:\\\\Users\\\\seonggyu.park\\\\AppData\\\\Local\\\\Programs\\\\Python\\\\Python38-32\\\\Scripts;C:\\\\Users\\\\seonggyu.park\\\\AppData\\\\Local\\\\Programs\\\\Python\\\\Python38-32;C:\\\\Users\\\\seonggyu.park\\\\AppData\\\\Local\\\\Microsoft\\\\WindowsApps;C:\\\\Users\\\\seonggyu.park\\\\AppData\\\\Local\\\\Programs\\\\Microsoft VS Code\\\\bin;C:\\\\Users\\\\seonggyu.park\\\\AppData\\\\Roaming\\\\TinyTeX\\\\bin\\\\win32;C:\\\\Users\\\\seonggyu.park\\\\AppData\\\\Local\\\\Programs\\\\Git\\\\cmd;C:\\\\Users\\\\seonggyu.park\\\\AppData\\\\Local\\\\Pandoc;C:\\\\Users\\\\seonggyu.park\\\\AppData\\\\Local\\\\GitHubDesktop\\\\bin;C:\\\\Users\\\\seonggyu.park\\\\AppData\\\\Local\\\\Microsoft\\\\WindowsApps;C:\\\\Users\\\\seonggyu.park\\\\scoop\\\\apps\\\\vim\\\\current;C:\\\\Users\\\\seonggyu.park\\\\ctags;C:\\\\Users\\\\seonggyu.park\\\\AppData\\\\Local\\\\Programs\\\\Julia-1.8.2\\\\bin',\n",
       "        'PATHEXT': '.COM;.EXE;.BAT;.CMD;.VBS;.VBE;.JS;.JSE;.WSF;.WSH;.MSC;.CPL',\n",
       "        'POSH_GIT_ENABLED': 'False',\n",
       "        'POSH_PATH': 'C:\\\\Users\\\\seonggyu.park\\\\Documents\\\\powershell\\\\Modules\\\\oh-my-posh',\n",
       "        'POSH_THEME': 'C:\\\\Users\\\\seonggyu.park\\\\.config\\\\powershell\\\\spark.omp.json',\n",
       "        'POSH_THEMES_PATH': 'C:\\\\Users\\\\seonggyu.park\\\\Documents\\\\powershell\\\\Modules\\\\oh-my-posh/themes',\n",
       "        'POWERLINE_COMMAND': 'oh-my-posh',\n",
       "        'PROCESSOR_ARCHITECTURE': 'AMD64',\n",
       "        'PROCESSOR_IDENTIFIER': 'AMD64 Family 23 Model 8 Stepping 2, AuthenticAMD',\n",
       "        'PROCESSOR_LEVEL': '23',\n",
       "        'PROCESSOR_REVISION': '0802',\n",
       "        'PROGRAMDATA': 'C:\\\\ProgramData',\n",
       "        'PROGRAMFILES': 'C:\\\\Program Files',\n",
       "        'PROGRAMFILES(X86)': 'C:\\\\Program Files (x86)',\n",
       "        'PROGRAMW6432': 'C:\\\\Program Files',\n",
       "        'PSEXECUTIONPOLICYPREFERENCE': 'Bypass',\n",
       "        'PSMODULEPATH': 'C:\\\\Users\\\\seonggyu.park\\\\Documents\\\\PowerShell\\\\Modules;C:\\\\Program Files\\\\PowerShell\\\\Modules;c:\\\\program files\\\\windowsapps\\\\microsoft.powershell_7.3.1.0_x64__8wekyb3d8bbwe\\\\Modules;C:\\\\Program Files\\\\WindowsPowerShell\\\\Modules;C:\\\\WINDOWS\\\\system32\\\\WindowsPowerShell\\\\v1.0\\\\Modules',\n",
       "        'PUBLIC': 'C:\\\\Users\\\\Public',\n",
       "        'STTASKFOLDERPATH': 'Ivanti\\\\PatchSDK\\\\Deployments',\n",
       "        'SYSTEMDRIVE': 'C:',\n",
       "        'SYSTEMROOT': 'C:\\\\WINDOWS',\n",
       "        'TEMP': 'C:\\\\Users\\\\SEONGG~1.PAR\\\\AppData\\\\Local\\\\Temp',\n",
       "        'TMP': 'C:\\\\Users\\\\SEONGG~1.PAR\\\\AppData\\\\Local\\\\Temp',\n",
       "        'USERDNSDOMAIN': 'AGNET.TAMU.EDU',\n",
       "        'USERDOMAIN': 'AGNET',\n",
       "        'USERDOMAIN_ROAMINGPROFILE': 'AGNET',\n",
       "        'USERNAME': 'seonggyu.park',\n",
       "        'USERPROFILE': 'C:\\\\Users\\\\seonggyu.park',\n",
       "        'VBOX_MSI_INSTALL_PATH': 'C:\\\\Program Files\\\\Oracle\\\\VirtualBox\\\\',\n",
       "        'VIRTUAL_ENV_DISABLE_PROMPT': '0',\n",
       "        'VS2019INSTALLDIR': 'C:\\\\Program Files (x86)\\\\Microsoft Visual Studio\\\\2019\\\\Professional',\n",
       "        'WINDIR': 'C:\\\\WINDOWS',\n",
       "        'WSLENV': 'WT_SESSION::WT_PROFILE_ID',\n",
       "        'WT_PROFILE_ID': '{574e775e-4f2a-5b96-ac1e-a2962a402336}',\n",
       "        'WT_SESSION': '2328e9fb-e4e5-45ec-9201-acdd6384b8b8',\n",
       "        '_CONDA_EXE': 'C:/Users/seonggyu.park/Miniconda3\\\\Scripts\\\\conda.exe',\n",
       "        '_CONDA_ROOT': 'C:/Users/seonggyu.park/Miniconda3',\n",
       "        'JPY_INTERRUPT_EVENT': '2120',\n",
       "        'IPY_INTERRUPT_EVENT': '2120',\n",
       "        'JPY_PARENT_PID': '2112',\n",
       "        'TERM': 'xterm-color',\n",
       "        'CLICOLOR': '1',\n",
       "        'PAGER': 'cat',\n",
       "        'GIT_PAGER': 'cat',\n",
       "        'MPLBACKEND': 'module://matplotlib_inline.backend_inline'}"
      ]
     },
     "execution_count": 12,
     "metadata": {},
     "output_type": "execute_result"
    }
   ],
   "source": [
    "os.environ"
   ]
  },
  {
   "cell_type": "code",
   "execution_count": null,
   "id": "0beaa933",
   "metadata": {},
   "outputs": [],
   "source": []
  }
 ],
 "metadata": {
  "kernelspec": {
   "display_name": "Python 3 (ipykernel)",
   "language": "python",
   "name": "python3"
  },
  "language_info": {
   "codemirror_mode": {
    "name": "ipython",
    "version": 3
   },
   "file_extension": ".py",
   "mimetype": "text/x-python",
   "name": "python",
   "nbconvert_exporter": "python",
   "pygments_lexer": "ipython3",
   "version": "3.10.6"
  }
 },
 "nbformat": 4,
 "nbformat_minor": 5
}
