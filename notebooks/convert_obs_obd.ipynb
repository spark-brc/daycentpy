{
 "cells": [
  {
   "cell_type": "code",
   "execution_count": 8,
   "id": "7795bf61",
   "metadata": {},
   "outputs": [],
   "source": [
    "import pandas as pd\n",
    "import os\n",
    "import glob\n",
    "import numpy as np"
   ]
  },
  {
   "cell_type": "code",
   "execution_count": null,
   "id": "cae07b9f",
   "metadata": {},
   "outputs": [],
   "source": []
  },
  {
   "cell_type": "code",
   "execution_count": 11,
   "id": "8ad6ace8",
   "metadata": {},
   "outputs": [],
   "source": [
    "wddir = \"d:/Projects/Tools/DayCent-CUTE/analysis/k-fold/\""
   ]
  },
  {
   "cell_type": "code",
   "execution_count": 12,
   "id": "c381d33d",
   "metadata": {},
   "outputs": [],
   "source": [
    "md_dir = os.path.join(wddir, \"DayCent_data\")"
   ]
  },
  {
   "cell_type": "code",
   "execution_count": 17,
   "id": "81ef26a0",
   "metadata": {},
   "outputs": [],
   "source": [
    "obs_dir = os.path.join(wddir, \"Obs\")"
   ]
  },
  {
   "cell_type": "code",
   "execution_count": 18,
   "id": "053863d2",
   "metadata": {},
   "outputs": [],
   "source": [
    "os.chdir(md_dir)\n",
    "md_list = next(os.walk('.'))[1]"
   ]
  },
  {
   "cell_type": "code",
   "execution_count": 19,
   "id": "c8b54c5d",
   "metadata": {},
   "outputs": [],
   "source": [
    "os.chdir(obs_dir)\n",
    "obs_files = glob.glob('*.csv')"
   ]
  },
  {
   "cell_type": "code",
   "execution_count": 20,
   "id": "442bf29d",
   "metadata": {},
   "outputs": [
    {
     "data": {
      "text/plain": [
       "'Broadbalk'"
      ]
     },
     "execution_count": 20,
     "metadata": {},
     "output_type": "execute_result"
    }
   ],
   "source": [
    "md_list[0]"
   ]
  },
  {
   "cell_type": "code",
   "execution_count": 21,
   "id": "46231d39",
   "metadata": {},
   "outputs": [],
   "source": [
    "def cov_obs_obd(obs_dir, md_dir, site_name):\n",
    "    os.chdir(obs_dir)\n",
    "    soc_df = pd.read_csv(f'soc_{site_name}.csv')\n",
    "    soc_columns = soc_df.columns[1:].tolist()\n",
    "    soc_df = soc_df.rename(columns={'Yr':'Year'})\n",
    "    for i in soc_columns:\n",
    "        soc_df = soc_df.rename(columns={i: f\"{site_name}_{i}\"})\n",
    "    os.chdir(os.path.join(md_dir, site_name))\n",
    "    soc_df.to_csv('soc_obd.csv', index=False)"
   ]
  },
  {
   "cell_type": "code",
   "execution_count": 22,
   "id": "f63fde27",
   "metadata": {},
   "outputs": [],
   "source": [
    "for i in md_list:\n",
    "    cov_obs_obd(obs_dir, md_dir, i)"
   ]
  },
  {
   "cell_type": "code",
   "execution_count": 23,
   "id": "6cc88964",
   "metadata": {},
   "outputs": [
    {
     "data": {
      "text/plain": [
       "['Broadbalk',\n",
       " 'Brookings',\n",
       " 'Dalhart',\n",
       " 'Davis',\n",
       " 'DixonSprings',\n",
       " 'FivePoints',\n",
       " 'FortCollins',\n",
       " 'FortValley',\n",
       " 'Goias',\n",
       " 'Hoytville',\n",
       " 'Ithaca2',\n",
       " 'IthacaNE',\n",
       " 'LethbridgeABC',\n",
       " 'Lethbridge_manure',\n",
       " 'Lexington',\n",
       " 'Mandan',\n",
       " 'Mead2',\n",
       " 'NarrabriField6',\n",
       " 'NarrabriFieldC1',\n",
       " 'NarrabriFieldD1',\n",
       " 'ORpegn',\n",
       " 'Rodale',\n",
       " 'Rosemount',\n",
       " 'RussellRanch',\n",
       " 'Saginaw',\n",
       " 'SCharleston',\n",
       " 'Sidney',\n",
       " 'SwiftCurrent',\n",
       " 'Tribune',\n",
       " 'Wooster']"
      ]
     },
     "execution_count": 23,
     "metadata": {},
     "output_type": "execute_result"
    }
   ],
   "source": [
    "md_list"
   ]
  },
  {
   "cell_type": "code",
   "execution_count": 24,
   "id": "5c0a4386",
   "metadata": {},
   "outputs": [],
   "source": [
    "flags = np.random.choice([0, 1], size=(30,), p=[1./5, 4./5])"
   ]
  },
  {
   "cell_type": "code",
   "execution_count": 25,
   "id": "88f3b553",
   "metadata": {},
   "outputs": [],
   "source": [
    "k_fold_df = pd.DataFrame({\"sites\": md_list, \"select\":flags})"
   ]
  },
  {
   "cell_type": "code",
   "execution_count": 26,
   "id": "e9951a72",
   "metadata": {},
   "outputs": [
    {
     "data": {
      "text/html": [
       "<div>\n",
       "<style scoped>\n",
       "    .dataframe tbody tr th:only-of-type {\n",
       "        vertical-align: middle;\n",
       "    }\n",
       "\n",
       "    .dataframe tbody tr th {\n",
       "        vertical-align: top;\n",
       "    }\n",
       "\n",
       "    .dataframe thead th {\n",
       "        text-align: right;\n",
       "    }\n",
       "</style>\n",
       "<table border=\"1\" class=\"dataframe\">\n",
       "  <thead>\n",
       "    <tr style=\"text-align: right;\">\n",
       "      <th></th>\n",
       "      <th>sites</th>\n",
       "      <th>select</th>\n",
       "    </tr>\n",
       "  </thead>\n",
       "  <tbody>\n",
       "    <tr>\n",
       "      <th>0</th>\n",
       "      <td>Broadbalk</td>\n",
       "      <td>1</td>\n",
       "    </tr>\n",
       "    <tr>\n",
       "      <th>1</th>\n",
       "      <td>Brookings</td>\n",
       "      <td>1</td>\n",
       "    </tr>\n",
       "    <tr>\n",
       "      <th>2</th>\n",
       "      <td>Dalhart</td>\n",
       "      <td>1</td>\n",
       "    </tr>\n",
       "    <tr>\n",
       "      <th>3</th>\n",
       "      <td>Davis</td>\n",
       "      <td>1</td>\n",
       "    </tr>\n",
       "    <tr>\n",
       "      <th>4</th>\n",
       "      <td>DixonSprings</td>\n",
       "      <td>1</td>\n",
       "    </tr>\n",
       "    <tr>\n",
       "      <th>5</th>\n",
       "      <td>FivePoints</td>\n",
       "      <td>1</td>\n",
       "    </tr>\n",
       "    <tr>\n",
       "      <th>6</th>\n",
       "      <td>FortCollins</td>\n",
       "      <td>1</td>\n",
       "    </tr>\n",
       "    <tr>\n",
       "      <th>7</th>\n",
       "      <td>FortValley</td>\n",
       "      <td>1</td>\n",
       "    </tr>\n",
       "    <tr>\n",
       "      <th>8</th>\n",
       "      <td>Goias</td>\n",
       "      <td>0</td>\n",
       "    </tr>\n",
       "    <tr>\n",
       "      <th>9</th>\n",
       "      <td>Hoytville</td>\n",
       "      <td>1</td>\n",
       "    </tr>\n",
       "    <tr>\n",
       "      <th>10</th>\n",
       "      <td>Ithaca2</td>\n",
       "      <td>1</td>\n",
       "    </tr>\n",
       "    <tr>\n",
       "      <th>11</th>\n",
       "      <td>IthacaNE</td>\n",
       "      <td>1</td>\n",
       "    </tr>\n",
       "    <tr>\n",
       "      <th>12</th>\n",
       "      <td>LethbridgeABC</td>\n",
       "      <td>1</td>\n",
       "    </tr>\n",
       "    <tr>\n",
       "      <th>13</th>\n",
       "      <td>Lethbridge_manure</td>\n",
       "      <td>0</td>\n",
       "    </tr>\n",
       "    <tr>\n",
       "      <th>14</th>\n",
       "      <td>Lexington</td>\n",
       "      <td>1</td>\n",
       "    </tr>\n",
       "    <tr>\n",
       "      <th>15</th>\n",
       "      <td>Mandan</td>\n",
       "      <td>1</td>\n",
       "    </tr>\n",
       "    <tr>\n",
       "      <th>16</th>\n",
       "      <td>Mead2</td>\n",
       "      <td>0</td>\n",
       "    </tr>\n",
       "    <tr>\n",
       "      <th>17</th>\n",
       "      <td>NarrabriField6</td>\n",
       "      <td>1</td>\n",
       "    </tr>\n",
       "    <tr>\n",
       "      <th>18</th>\n",
       "      <td>NarrabriFieldC1</td>\n",
       "      <td>1</td>\n",
       "    </tr>\n",
       "    <tr>\n",
       "      <th>19</th>\n",
       "      <td>NarrabriFieldD1</td>\n",
       "      <td>1</td>\n",
       "    </tr>\n",
       "    <tr>\n",
       "      <th>20</th>\n",
       "      <td>ORpegn</td>\n",
       "      <td>1</td>\n",
       "    </tr>\n",
       "    <tr>\n",
       "      <th>21</th>\n",
       "      <td>Rodale</td>\n",
       "      <td>0</td>\n",
       "    </tr>\n",
       "    <tr>\n",
       "      <th>22</th>\n",
       "      <td>Rosemount</td>\n",
       "      <td>1</td>\n",
       "    </tr>\n",
       "    <tr>\n",
       "      <th>23</th>\n",
       "      <td>RussellRanch</td>\n",
       "      <td>1</td>\n",
       "    </tr>\n",
       "    <tr>\n",
       "      <th>24</th>\n",
       "      <td>Saginaw</td>\n",
       "      <td>1</td>\n",
       "    </tr>\n",
       "    <tr>\n",
       "      <th>25</th>\n",
       "      <td>SCharleston</td>\n",
       "      <td>1</td>\n",
       "    </tr>\n",
       "    <tr>\n",
       "      <th>26</th>\n",
       "      <td>Sidney</td>\n",
       "      <td>0</td>\n",
       "    </tr>\n",
       "    <tr>\n",
       "      <th>27</th>\n",
       "      <td>SwiftCurrent</td>\n",
       "      <td>0</td>\n",
       "    </tr>\n",
       "    <tr>\n",
       "      <th>28</th>\n",
       "      <td>Tribune</td>\n",
       "      <td>1</td>\n",
       "    </tr>\n",
       "    <tr>\n",
       "      <th>29</th>\n",
       "      <td>Wooster</td>\n",
       "      <td>1</td>\n",
       "    </tr>\n",
       "  </tbody>\n",
       "</table>\n",
       "</div>"
      ],
      "text/plain": [
       "                sites  select\n",
       "0           Broadbalk       1\n",
       "1           Brookings       1\n",
       "2             Dalhart       1\n",
       "3               Davis       1\n",
       "4        DixonSprings       1\n",
       "5          FivePoints       1\n",
       "6         FortCollins       1\n",
       "7          FortValley       1\n",
       "8               Goias       0\n",
       "9           Hoytville       1\n",
       "10            Ithaca2       1\n",
       "11           IthacaNE       1\n",
       "12      LethbridgeABC       1\n",
       "13  Lethbridge_manure       0\n",
       "14          Lexington       1\n",
       "15             Mandan       1\n",
       "16              Mead2       0\n",
       "17     NarrabriField6       1\n",
       "18    NarrabriFieldC1       1\n",
       "19    NarrabriFieldD1       1\n",
       "20             ORpegn       1\n",
       "21             Rodale       0\n",
       "22          Rosemount       1\n",
       "23       RussellRanch       1\n",
       "24            Saginaw       1\n",
       "25        SCharleston       1\n",
       "26             Sidney       0\n",
       "27       SwiftCurrent       0\n",
       "28            Tribune       1\n",
       "29            Wooster       1"
      ]
     },
     "execution_count": 26,
     "metadata": {},
     "output_type": "execute_result"
    }
   ],
   "source": [
    "k_fold_df"
   ]
  },
  {
   "cell_type": "code",
   "execution_count": null,
   "id": "6de77c6e",
   "metadata": {},
   "outputs": [],
   "source": []
  }
 ],
 "metadata": {
  "kernelspec": {
   "display_name": "Python 3 (ipykernel)",
   "language": "python",
   "name": "python3"
  },
  "language_info": {
   "codemirror_mode": {
    "name": "ipython",
    "version": 3
   },
   "file_extension": ".py",
   "mimetype": "text/x-python",
   "name": "python",
   "nbconvert_exporter": "python",
   "pygments_lexer": "ipython3",
   "version": "3.11.0"
  }
 },
 "nbformat": 4,
 "nbformat_minor": 5
}
