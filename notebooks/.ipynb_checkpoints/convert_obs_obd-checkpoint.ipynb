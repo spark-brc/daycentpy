{
 "cells": [
  {
   "cell_type": "code",
   "execution_count": 12,
   "id": "5a898268",
   "metadata": {},
   "outputs": [],
   "source": [
    "import pandas as pd\n",
    "import os\n",
    "import glob"
   ]
  },
  {
   "cell_type": "code",
   "execution_count": null,
   "id": "5d041d98",
   "metadata": {},
   "outputs": [],
   "source": []
  },
  {
   "cell_type": "code",
   "execution_count": 5,
   "id": "7b3c791e",
   "metadata": {},
   "outputs": [],
   "source": [
    "wd = \"d:/Projects/Tools/DayCent-CUTE/analysis/k-fold/\""
   ]
  },
  {
   "cell_type": "code",
   "execution_count": 7,
   "id": "49de82f5",
   "metadata": {},
   "outputs": [],
   "source": [
    "md_dir = os.path.join(wd, \"DayCent_data\")"
   ]
  },
  {
   "cell_type": "code",
   "execution_count": 6,
   "id": "b054150e",
   "metadata": {},
   "outputs": [],
   "source": [
    "obs_dir = os.path.join(wd, \"Obs\")"
   ]
  },
  {
   "cell_type": "code",
   "execution_count": 16,
   "id": "5c73dabd",
   "metadata": {},
   "outputs": [],
   "source": [
    "os.chdir(md_dir)\n",
    "md_list = next(os.walk('.'))[1]"
   ]
  },
  {
   "cell_type": "code",
   "execution_count": 19,
   "id": "763735c8",
   "metadata": {},
   "outputs": [],
   "source": [
    "os.chdir(obs_dir)\n",
    "obs_files = glob.glob('*.csv')"
   ]
  },
  {
   "cell_type": "code",
   "execution_count": 22,
   "id": "62fdce27",
   "metadata": {},
   "outputs": [
    {
     "data": {
      "text/plain": [
       "'Broadbalk'"
      ]
     },
     "execution_count": 22,
     "metadata": {},
     "output_type": "execute_result"
    }
   ],
   "source": [
    "md_list[0]"
   ]
  },
  {
   "cell_type": "code",
   "execution_count": 32,
   "id": "8147cf7e",
   "metadata": {},
   "outputs": [],
   "source": [
    "def cov_obs_obd(site_name)\n",
    "    soc_df = pd.read_csv(f'soc_{site_name}.csv')\n",
    "    soc_columns = soc_df.columns[1:].tolist()\n",
    "    soc_df = soc_df.rename(columns={'Yr':'Year'})\n",
    "    for i in soc_columns:\n",
    "        soc_df = soc_df.rename(columns={i: f\"{site_name}_{i}\"})\n",
    "    soc_df.to_csv('soc_obd.csv', index=False)"
   ]
  },
  {
   "cell_type": "code",
   "execution_count": 33,
   "id": "4dfc4a64",
   "metadata": {},
   "outputs": [
    {
     "data": {
      "text/html": [
       "<div>\n",
       "<style scoped>\n",
       "    .dataframe tbody tr th:only-of-type {\n",
       "        vertical-align: middle;\n",
       "    }\n",
       "\n",
       "    .dataframe tbody tr th {\n",
       "        vertical-align: top;\n",
       "    }\n",
       "\n",
       "    .dataframe thead th {\n",
       "        text-align: right;\n",
       "    }\n",
       "</style>\n",
       "<table border=\"1\" class=\"dataframe\">\n",
       "  <thead>\n",
       "    <tr style=\"text-align: right;\">\n",
       "      <th></th>\n",
       "      <th>Year</th>\n",
       "      <th>Broadbalk_0N</th>\n",
       "      <th>Broadbalk_FYM1843</th>\n",
       "      <th>Broadbalk_FYM1885</th>\n",
       "      <th>Broadbalk_N3PK</th>\n",
       "    </tr>\n",
       "  </thead>\n",
       "  <tbody>\n",
       "    <tr>\n",
       "      <th>0</th>\n",
       "      <td>1843</td>\n",
       "      <td>3568</td>\n",
       "      <td>3568</td>\n",
       "      <td>3568</td>\n",
       "      <td>3568</td>\n",
       "    </tr>\n",
       "    <tr>\n",
       "      <th>1</th>\n",
       "      <td>1865</td>\n",
       "      <td>3568</td>\n",
       "      <td>6527</td>\n",
       "      <td>-999</td>\n",
       "      <td>-999</td>\n",
       "    </tr>\n",
       "    <tr>\n",
       "      <th>2</th>\n",
       "      <td>1881</td>\n",
       "      <td>3530</td>\n",
       "      <td>6772</td>\n",
       "      <td>-999</td>\n",
       "      <td>4534</td>\n",
       "    </tr>\n",
       "    <tr>\n",
       "      <th>3</th>\n",
       "      <td>1893</td>\n",
       "      <td>2966</td>\n",
       "      <td>7347</td>\n",
       "      <td>5297</td>\n",
       "      <td>4077</td>\n",
       "    </tr>\n",
       "    <tr>\n",
       "      <th>4</th>\n",
       "      <td>1914</td>\n",
       "      <td>3199</td>\n",
       "      <td>9056</td>\n",
       "      <td>7047</td>\n",
       "      <td>4343</td>\n",
       "    </tr>\n",
       "    <tr>\n",
       "      <th>5</th>\n",
       "      <td>1936</td>\n",
       "      <td>3390</td>\n",
       "      <td>7889</td>\n",
       "      <td>6753</td>\n",
       "      <td>-999</td>\n",
       "    </tr>\n",
       "    <tr>\n",
       "      <th>6</th>\n",
       "      <td>1944</td>\n",
       "      <td>3546</td>\n",
       "      <td>8135</td>\n",
       "      <td>6940</td>\n",
       "      <td>4343</td>\n",
       "    </tr>\n",
       "    <tr>\n",
       "      <th>7</th>\n",
       "      <td>1966</td>\n",
       "      <td>3156</td>\n",
       "      <td>8477</td>\n",
       "      <td>7405</td>\n",
       "      <td>4115</td>\n",
       "    </tr>\n",
       "    <tr>\n",
       "      <th>8</th>\n",
       "      <td>1987</td>\n",
       "      <td>3240</td>\n",
       "      <td>9159</td>\n",
       "      <td>7600</td>\n",
       "      <td>4267</td>\n",
       "    </tr>\n",
       "    <tr>\n",
       "      <th>9</th>\n",
       "      <td>1992</td>\n",
       "      <td>2772</td>\n",
       "      <td>8704</td>\n",
       "      <td>8672</td>\n",
       "      <td>4077</td>\n",
       "    </tr>\n",
       "    <tr>\n",
       "      <th>10</th>\n",
       "      <td>1997</td>\n",
       "      <td>2700</td>\n",
       "      <td>9516</td>\n",
       "      <td>8509</td>\n",
       "      <td>3924</td>\n",
       "    </tr>\n",
       "    <tr>\n",
       "      <th>11</th>\n",
       "      <td>2000</td>\n",
       "      <td>3096</td>\n",
       "      <td>9516</td>\n",
       "      <td>8737</td>\n",
       "      <td>4496</td>\n",
       "    </tr>\n",
       "    <tr>\n",
       "      <th>12</th>\n",
       "      <td>2005</td>\n",
       "      <td>2988</td>\n",
       "      <td>9711</td>\n",
       "      <td>8314</td>\n",
       "      <td>4001</td>\n",
       "    </tr>\n",
       "  </tbody>\n",
       "</table>\n",
       "</div>"
      ],
      "text/plain": [
       "    Year  Broadbalk_0N  Broadbalk_FYM1843  Broadbalk_FYM1885  Broadbalk_N3PK\n",
       "0   1843          3568               3568               3568            3568\n",
       "1   1865          3568               6527               -999            -999\n",
       "2   1881          3530               6772               -999            4534\n",
       "3   1893          2966               7347               5297            4077\n",
       "4   1914          3199               9056               7047            4343\n",
       "5   1936          3390               7889               6753            -999\n",
       "6   1944          3546               8135               6940            4343\n",
       "7   1966          3156               8477               7405            4115\n",
       "8   1987          3240               9159               7600            4267\n",
       "9   1992          2772               8704               8672            4077\n",
       "10  1997          2700               9516               8509            3924\n",
       "11  2000          3096               9516               8737            4496\n",
       "12  2005          2988               9711               8314            4001"
      ]
     },
     "execution_count": 33,
     "metadata": {},
     "output_type": "execute_result"
    }
   ],
   "source": [
    "soc_df"
   ]
  },
  {
   "cell_type": "code",
   "execution_count": null,
   "id": "3cdf6c80",
   "metadata": {},
   "outputs": [],
   "source": []
  }
 ],
 "metadata": {
  "kernelspec": {
   "display_name": "Python 3 (ipykernel)",
   "language": "python",
   "name": "python3"
  },
  "language_info": {
   "codemirror_mode": {
    "name": "ipython",
    "version": 3
   },
   "file_extension": ".py",
   "mimetype": "text/x-python",
   "name": "python",
   "nbconvert_exporter": "python",
   "pygments_lexer": "ipython3",
   "version": "3.11.0"
  }
 },
 "nbformat": 4,
 "nbformat_minor": 5
}
