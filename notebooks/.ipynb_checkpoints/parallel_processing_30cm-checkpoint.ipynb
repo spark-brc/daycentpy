{
 "cells": [
  {
   "cell_type": "code",
   "execution_count": 1,
   "id": "df520bd2",
   "metadata": {},
   "outputs": [],
   "source": [
    "import spotpy\n",
    "import os\n",
    "import sys\n",
    "import pandas as pd\n",
    "import numpy as np\n",
    "import subprocess\n",
    "import shutil"
   ]
  },
  {
   "cell_type": "code",
   "execution_count": 2,
   "id": "b96273a5",
   "metadata": {},
   "outputs": [],
   "source": [
    "sys.path.insert(1, 'd:/Projects/Tools/daycentpy_git')"
   ]
  },
  {
   "cell_type": "code",
   "execution_count": 3,
   "id": "46880e07",
   "metadata": {},
   "outputs": [],
   "source": [
    "from daycentpy import dc_handler"
   ]
  },
  {
   "cell_type": "markdown",
   "id": "589958b3",
   "metadata": {},
   "source": [
    "- Set a working directory as project folder\n",
    "- provide a path to your model folder"
   ]
  },
  {
   "cell_type": "code",
   "execution_count": 4,
   "id": "36e065dd",
   "metadata": {},
   "outputs": [],
   "source": [
    "pwd = \"d:/Projects/Tools/DayCent-CUTE/analysis/cali/\"\n",
    "md = \"d:/Projects/Tools/DayCent-CUTE/analysis/Wooster/\""
   ]
  },
  {
   "cell_type": "code",
   "execution_count": 5,
   "id": "1614bc5a",
   "metadata": {},
   "outputs": [
    {
     "name": "stdout",
     "output_type": "stream",
     "text": [
      "    We found DayCent parameter base file.\n",
      "    Open the file and select parameters you are goint to use ..., \n",
      "    then save it as 'seleted_pars.csv'.\n"
     ]
    }
   ],
   "source": [
    "m1 = dc_handler.DCinit(pwd, md)"
   ]
  },
  {
   "cell_type": "code",
   "execution_count": 6,
   "id": "0cc3aa3d",
   "metadata": {},
   "outputs": [
    {
     "data": {
      "text/plain": [
       "'d:\\\\Projects\\\\Tools\\\\DayCent-CUTE\\\\analysis\\\\cali'"
      ]
     },
     "execution_count": 6,
     "metadata": {},
     "output_type": "execute_result"
    }
   ],
   "source": [
    "os.getcwd()"
   ]
  },
  {
   "cell_type": "code",
   "execution_count": 7,
   "id": "a383e066",
   "metadata": {},
   "outputs": [
    {
     "name": "stdout",
     "output_type": "stream",
     "text": [
      "You have selected a total of 26 parameters.\n"
     ]
    }
   ],
   "source": [
    "sel_pars_df = m1.read_sel_dc_pars()"
   ]
  },
  {
   "cell_type": "code",
   "execution_count": 8,
   "id": "db332540",
   "metadata": {},
   "outputs": [
    {
     "data": {
      "text/html": [
       "<div>\n",
       "<style scoped>\n",
       "    .dataframe tbody tr th:only-of-type {\n",
       "        vertical-align: middle;\n",
       "    }\n",
       "\n",
       "    .dataframe tbody tr th {\n",
       "        vertical-align: top;\n",
       "    }\n",
       "\n",
       "    .dataframe thead th {\n",
       "        text-align: right;\n",
       "    }\n",
       "</style>\n",
       "<table border=\"1\" class=\"dataframe\">\n",
       "  <thead>\n",
       "    <tr style=\"text-align: right;\">\n",
       "      <th></th>\n",
       "      <th>name</th>\n",
       "      <th>select</th>\n",
       "      <th>default</th>\n",
       "      <th>min</th>\n",
       "      <th>max</th>\n",
       "      <th>category</th>\n",
       "    </tr>\n",
       "  </thead>\n",
       "  <tbody>\n",
       "    <tr>\n",
       "      <th>1</th>\n",
       "      <td>ANEREF(2)</td>\n",
       "      <td>1</td>\n",
       "      <td>3.000000</td>\n",
       "      <td>2.800000</td>\n",
       "      <td>5.0000</td>\n",
       "      <td>fix</td>\n",
       "    </tr>\n",
       "    <tr>\n",
       "      <th>2</th>\n",
       "      <td>ANEREF(3)</td>\n",
       "      <td>1</td>\n",
       "      <td>1.000000</td>\n",
       "      <td>0.200000</td>\n",
       "      <td>1.1000</td>\n",
       "      <td>fix</td>\n",
       "    </tr>\n",
       "    <tr>\n",
       "      <th>9</th>\n",
       "      <td>DEC3(1)</td>\n",
       "      <td>1</td>\n",
       "      <td>6.000000</td>\n",
       "      <td>4.000000</td>\n",
       "      <td>8.0000</td>\n",
       "      <td>fix</td>\n",
       "    </tr>\n",
       "    <tr>\n",
       "      <th>11</th>\n",
       "      <td>DEC4</td>\n",
       "      <td>1</td>\n",
       "      <td>0.004300</td>\n",
       "      <td>0.001000</td>\n",
       "      <td>0.0050</td>\n",
       "      <td>fix</td>\n",
       "    </tr>\n",
       "    <tr>\n",
       "      <th>12</th>\n",
       "      <td>DEC5(2)</td>\n",
       "      <td>1</td>\n",
       "      <td>0.120000</td>\n",
       "      <td>0.070000</td>\n",
       "      <td>0.2500</td>\n",
       "      <td>fix</td>\n",
       "    </tr>\n",
       "    <tr>\n",
       "      <th>20</th>\n",
       "      <td>FWLOSS(4)</td>\n",
       "      <td>1</td>\n",
       "      <td>0.750000</td>\n",
       "      <td>0.200000</td>\n",
       "      <td>2.0000</td>\n",
       "      <td>fix</td>\n",
       "    </tr>\n",
       "    <tr>\n",
       "      <th>21</th>\n",
       "      <td>OMLECH(1)</td>\n",
       "      <td>1</td>\n",
       "      <td>0.030000</td>\n",
       "      <td>0.000001</td>\n",
       "      <td>1.0000</td>\n",
       "      <td>fix</td>\n",
       "    </tr>\n",
       "    <tr>\n",
       "      <th>24</th>\n",
       "      <td>P1CO2A(2)</td>\n",
       "      <td>1</td>\n",
       "      <td>0.170000</td>\n",
       "      <td>0.100000</td>\n",
       "      <td>0.2500</td>\n",
       "      <td>fix</td>\n",
       "    </tr>\n",
       "    <tr>\n",
       "      <th>25</th>\n",
       "      <td>P1CO2B(2)</td>\n",
       "      <td>1</td>\n",
       "      <td>0.680000</td>\n",
       "      <td>0.550000</td>\n",
       "      <td>0.7400</td>\n",
       "      <td>fix</td>\n",
       "    </tr>\n",
       "    <tr>\n",
       "      <th>26</th>\n",
       "      <td>P2CO2(2)</td>\n",
       "      <td>1</td>\n",
       "      <td>0.550000</td>\n",
       "      <td>0.500000</td>\n",
       "      <td>0.8000</td>\n",
       "      <td>fix</td>\n",
       "    </tr>\n",
       "    <tr>\n",
       "      <th>27</th>\n",
       "      <td>P3CO2</td>\n",
       "      <td>1</td>\n",
       "      <td>0.550000</td>\n",
       "      <td>0.500000</td>\n",
       "      <td>0.9000</td>\n",
       "      <td>fix</td>\n",
       "    </tr>\n",
       "    <tr>\n",
       "      <th>31</th>\n",
       "      <td>PMCO2(2)</td>\n",
       "      <td>1</td>\n",
       "      <td>0.550000</td>\n",
       "      <td>0.350000</td>\n",
       "      <td>0.7000</td>\n",
       "      <td>fix</td>\n",
       "    </tr>\n",
       "    <tr>\n",
       "      <th>32</th>\n",
       "      <td>PS1CO2(2)</td>\n",
       "      <td>1</td>\n",
       "      <td>0.550000</td>\n",
       "      <td>0.400000</td>\n",
       "      <td>0.8000</td>\n",
       "      <td>fix</td>\n",
       "    </tr>\n",
       "    <tr>\n",
       "      <th>33</th>\n",
       "      <td>PS1S3(1)</td>\n",
       "      <td>1</td>\n",
       "      <td>0.003000</td>\n",
       "      <td>0.002000</td>\n",
       "      <td>0.0050</td>\n",
       "      <td>fix</td>\n",
       "    </tr>\n",
       "    <tr>\n",
       "      <th>34</th>\n",
       "      <td>PS1S3(2)</td>\n",
       "      <td>1</td>\n",
       "      <td>0.032000</td>\n",
       "      <td>0.020000</td>\n",
       "      <td>0.0600</td>\n",
       "      <td>fix</td>\n",
       "    </tr>\n",
       "    <tr>\n",
       "      <th>35</th>\n",
       "      <td>PS2S3(1)</td>\n",
       "      <td>1</td>\n",
       "      <td>0.003000</td>\n",
       "      <td>0.002000</td>\n",
       "      <td>0.0050</td>\n",
       "      <td>fix</td>\n",
       "    </tr>\n",
       "    <tr>\n",
       "      <th>36</th>\n",
       "      <td>PS2S3(2)</td>\n",
       "      <td>1</td>\n",
       "      <td>0.009000</td>\n",
       "      <td>0.006000</td>\n",
       "      <td>0.0130</td>\n",
       "      <td>fix</td>\n",
       "    </tr>\n",
       "    <tr>\n",
       "      <th>40</th>\n",
       "      <td>TEFF(1)</td>\n",
       "      <td>1</td>\n",
       "      <td>15.400000</td>\n",
       "      <td>5.000000</td>\n",
       "      <td>30.0000</td>\n",
       "      <td>fix</td>\n",
       "    </tr>\n",
       "    <tr>\n",
       "      <th>41</th>\n",
       "      <td>TEFF(2)</td>\n",
       "      <td>1</td>\n",
       "      <td>0.150000</td>\n",
       "      <td>0.050000</td>\n",
       "      <td>0.3000</td>\n",
       "      <td>fix</td>\n",
       "    </tr>\n",
       "    <tr>\n",
       "      <th>42</th>\n",
       "      <td>WEFF(1)</td>\n",
       "      <td>1</td>\n",
       "      <td>30.000000</td>\n",
       "      <td>25.000000</td>\n",
       "      <td>35.0000</td>\n",
       "      <td>fix</td>\n",
       "    </tr>\n",
       "    <tr>\n",
       "      <th>43</th>\n",
       "      <td>WEFF(2)</td>\n",
       "      <td>1</td>\n",
       "      <td>9.000000</td>\n",
       "      <td>6.000000</td>\n",
       "      <td>15.0000</td>\n",
       "      <td>fix</td>\n",
       "    </tr>\n",
       "    <tr>\n",
       "      <th>48</th>\n",
       "      <td>dmp</td>\n",
       "      <td>1</td>\n",
       "      <td>0.003000</td>\n",
       "      <td>0.001000</td>\n",
       "      <td>0.0100</td>\n",
       "      <td>site</td>\n",
       "    </tr>\n",
       "    <tr>\n",
       "      <th>49</th>\n",
       "      <td>dmpflux</td>\n",
       "      <td>1</td>\n",
       "      <td>0.000008</td>\n",
       "      <td>0.000001</td>\n",
       "      <td>0.0001</td>\n",
       "      <td>site</td>\n",
       "    </tr>\n",
       "    <tr>\n",
       "      <th>60</th>\n",
       "      <td>FBM</td>\n",
       "      <td>1</td>\n",
       "      <td>0.030000</td>\n",
       "      <td>0.010000</td>\n",
       "      <td>0.0500</td>\n",
       "      <td>site</td>\n",
       "    </tr>\n",
       "    <tr>\n",
       "      <th>61</th>\n",
       "      <td>FHP</td>\n",
       "      <td>1</td>\n",
       "      <td>0.680000</td>\n",
       "      <td>0.300000</td>\n",
       "      <td>0.7000</td>\n",
       "      <td>site</td>\n",
       "    </tr>\n",
       "    <tr>\n",
       "      <th>62</th>\n",
       "      <td>Till_Eff</td>\n",
       "      <td>1</td>\n",
       "      <td>10.000000</td>\n",
       "      <td>5.000000</td>\n",
       "      <td>15.0000</td>\n",
       "      <td>site</td>\n",
       "    </tr>\n",
       "  </tbody>\n",
       "</table>\n",
       "</div>"
      ],
      "text/plain": [
       "         name  select    default        min      max category\n",
       "1   ANEREF(2)       1   3.000000   2.800000   5.0000      fix\n",
       "2   ANEREF(3)       1   1.000000   0.200000   1.1000      fix\n",
       "9     DEC3(1)       1   6.000000   4.000000   8.0000      fix\n",
       "11       DEC4       1   0.004300   0.001000   0.0050      fix\n",
       "12    DEC5(2)       1   0.120000   0.070000   0.2500      fix\n",
       "20  FWLOSS(4)       1   0.750000   0.200000   2.0000      fix\n",
       "21  OMLECH(1)       1   0.030000   0.000001   1.0000      fix\n",
       "24  P1CO2A(2)       1   0.170000   0.100000   0.2500      fix\n",
       "25  P1CO2B(2)       1   0.680000   0.550000   0.7400      fix\n",
       "26   P2CO2(2)       1   0.550000   0.500000   0.8000      fix\n",
       "27      P3CO2       1   0.550000   0.500000   0.9000      fix\n",
       "31   PMCO2(2)       1   0.550000   0.350000   0.7000      fix\n",
       "32  PS1CO2(2)       1   0.550000   0.400000   0.8000      fix\n",
       "33   PS1S3(1)       1   0.003000   0.002000   0.0050      fix\n",
       "34   PS1S3(2)       1   0.032000   0.020000   0.0600      fix\n",
       "35   PS2S3(1)       1   0.003000   0.002000   0.0050      fix\n",
       "36   PS2S3(2)       1   0.009000   0.006000   0.0130      fix\n",
       "40    TEFF(1)       1  15.400000   5.000000  30.0000      fix\n",
       "41    TEFF(2)       1   0.150000   0.050000   0.3000      fix\n",
       "42    WEFF(1)       1  30.000000  25.000000  35.0000      fix\n",
       "43    WEFF(2)       1   9.000000   6.000000  15.0000      fix\n",
       "48        dmp       1   0.003000   0.001000   0.0100     site\n",
       "49    dmpflux       1   0.000008   0.000001   0.0001     site\n",
       "60        FBM       1   0.030000   0.010000   0.0500     site\n",
       "61        FHP       1   0.680000   0.300000   0.7000     site\n",
       "62   Till_Eff       1  10.000000   5.000000  15.0000     site"
      ]
     },
     "execution_count": 8,
     "metadata": {},
     "output_type": "execute_result"
    }
   ],
   "source": [
    "sel_pars_df"
   ]
  },
  {
   "cell_type": "code",
   "execution_count": 9,
   "id": "b7dc0dc0",
   "metadata": {},
   "outputs": [
    {
     "data": {
      "text/plain": [
       "'d:\\\\Projects\\\\Tools\\\\DayCent-CUTE\\\\analysis\\\\cali'"
      ]
     },
     "execution_count": 9,
     "metadata": {},
     "output_type": "execute_result"
    }
   ],
   "source": [
    "os.getcwd()"
   ]
  },
  {
   "cell_type": "code",
   "execution_count": 10,
   "id": "d107e410",
   "metadata": {},
   "outputs": [],
   "source": [
    "os.chdir(os.path.join(os.getcwd(),'main'))"
   ]
  },
  {
   "cell_type": "code",
   "execution_count": 11,
   "id": "f9761214",
   "metadata": {},
   "outputs": [
    {
     "name": "stdout",
     "output_type": "stream",
     "text": [
      "\n",
      "  Simulation start ...\n",
      "  Simulation complete ...\n",
      "  extracting simulation outputs ...\n",
      "  Simulation complete ...\n",
      "  extracting simulation outputs ...\n",
      "  Simulation complete ...\n",
      "  extracting simulation outputs ...\n",
      "  Simulation complete ...\n",
      "  extracting simulation outputs ...\n"
     ]
    }
   ],
   "source": [
    "with open(\"DayCentRUN.DAT\", \"r\") as f:\n",
    "    data = [x.strip().split() for x in f]\n",
    "print('')\n",
    "print('  Simulation start ...')\n",
    "\n",
    "for l, i in enumerate(range(len(data))):\n",
    "    if len(data[i]) == 0:\n",
    "        mlines = l\n",
    "# mlines indicate only lines for model info\n",
    "for i in range(mlines):\n",
    "    if os.path.isfile(data[i][1]+\".bin\"):\n",
    "        os.remove(data[i][1]+\".bin\")\n",
    "    if len(data[i]) > 2:\n",
    "        comline = 'DDcentEVI.exe -s {} -n {} -e {}'.format(data[i][1], data[i][1], data[i][3])\n",
    "    else:\n",
    "        comline = 'DDcentEVI.exe -s {} -n {}'.format(data[i][1], data[i][1])\n",
    "    run_model = subprocess.Popen(comline, cwd=\".\", stdout=subprocess.DEVNULL)\n",
    "#     run_model = subprocess.Popen(comline, cwd=\".\")\n",
    "    run_model.wait()\n",
    "    comline2 = 'DDlist100.exe {} {} {}'.format(data[i][1], data[i][1], 'outvars.txt')\n",
    "    # os.system(\"start cmd {}\".format(comline2))\n",
    "    extract_model = subprocess.Popen(comline2, cwd=\".\", stdout=subprocess.DEVNULL)\n",
    "    extract_model.wait()\n",
    "    print('  Simulation complete ...')\n",
    "    print('  extracting simulation outputs ...')"
   ]
  },
  {
   "cell_type": "code",
   "execution_count": 12,
   "id": "35d62024",
   "metadata": {},
   "outputs": [],
   "source": [
    "wd = os.getcwd()"
   ]
  },
  {
   "cell_type": "code",
   "execution_count": 13,
   "id": "bab47541",
   "metadata": {},
   "outputs": [
    {
     "name": "stdout",
     "output_type": "stream",
     "text": [
      "d:\\Projects\\Tools\\DayCent-CUTE\\analysis\\cali\\main\n"
     ]
    }
   ],
   "source": [
    "print(wd)"
   ]
  },
  {
   "cell_type": "code",
   "execution_count": 14,
   "id": "632c5be6",
   "metadata": {
    "scrolled": true
   },
   "outputs": [
    {
     "name": "stdout",
     "output_type": "stream",
     "text": [
      "Initializing the  Shuffled Complex Evolution (SCE-UA) algorithm  with  2000  repetitions\n",
      "The objective function will be minimized\n",
      "Starting burn-in sampling...\n"
     ]
    },
    {
     "ename": "PermissionError",
     "evalue": "[Errno 13] Permission denied: 'd:\\\\Projects\\\\Tools\\\\DayCent-CUTE\\\\analysis\\\\cali\\\\main\\\\db_results.csv'",
     "output_type": "error",
     "traceback": [
      "\u001b[1;31m---------------------------------------------------------------------------\u001b[0m",
      "\u001b[1;31mRemoteTraceback\u001b[0m                           Traceback (most recent call last)",
      "\u001b[1;31mRemoteTraceback\u001b[0m: \n\"\"\"\nTraceback (most recent call last):\n  File \"C:\\Users\\seonggyu.park\\Miniconda3\\envs\\daycentpy\\Lib\\site-packages\\multiprocess\\pool.py\", line 125, in worker\n    result = (True, func(*args, **kwds))\n                    ^^^^^^^^^^^^^^^^^^^\n  File \"C:\\Users\\seonggyu.park\\Miniconda3\\envs\\daycentpy\\Lib\\site-packages\\multiprocess\\pool.py\", line 48, in mapstar\n    return list(map(*args))\n           ^^^^^^^^^^^^^^^^\n  File \"C:\\Users\\seonggyu.park\\Miniconda3\\envs\\daycentpy\\Lib\\site-packages\\pathos\\helpers\\mp_helper.py\", line 15, in <lambda>\n    func = lambda args: f(*args)\n                        ^^^^^^^^\n  File \"C:\\Users\\seonggyu.park\\Miniconda3\\envs\\daycentpy\\Lib\\site-packages\\spotpy\\parallel\\mproc.py\", line 49, in f\n    data = self.process(job)\n           ^^^^^^^^^^^^^^^^^\n  File \"C:\\Users\\seonggyu.park\\Miniconda3\\envs\\daycentpy\\Lib\\site-packages\\spotpy\\algorithms\\sceua.py\", line 72, in simulate\n    return _algorithm.simulate(self, id_params_tuple)\n           ^^^^^^^^^^^^^^^^^^^^^^^^^^^^^^^^^^^^^^^^^^\n  File \"C:\\Users\\seonggyu.park\\Miniconda3\\envs\\daycentpy\\Lib\\site-packages\\spotpy\\algorithms\\_algorithm.py\", line 546, in simulate\n    model_result = self.setup.simulation(self.partype(*all_params))\n                   ^^^^^^^^^^^^^^^^^^^^^^^^^^^^^^^^^^^^^^^^^^^^^^^^\n  File \"d:\\Projects/Tools/daycentpy_git\\daycentpy\\dc_handler.py\", line 475, in simulation\n    self.saving_results(obj_val, cpars, sim_list)\n  File \"d:\\Projects/Tools/daycentpy_git\\daycentpy\\dc_handler.py\", line 517, in saving_results\n    with open(os.path.join(self.wd, dbfile), 'a') as inf:\n         ^^^^^^^^^^^^^^^^^^^^^^^^^^^^^^^^^^^^^^^^\nPermissionError: [Errno 13] Permission denied: 'd:\\\\Projects\\\\Tools\\\\DayCent-CUTE\\\\analysis\\\\cali\\\\main\\\\db_results.csv'\n\"\"\"",
      "\nThe above exception was the direct cause of the following exception:\n",
      "\u001b[1;31mPermissionError\u001b[0m                           Traceback (most recent call last)",
      "Cell \u001b[1;32mIn[14], line 1\u001b[0m\n\u001b[1;32m----> 1\u001b[0m \u001b[43mdc_handler\u001b[49m\u001b[38;5;241;43m.\u001b[39;49m\u001b[43mrun_dream\u001b[49m\u001b[43m(\u001b[49m\u001b[43mwd\u001b[49m\u001b[43m,\u001b[49m\u001b[43m \u001b[49m\u001b[43msel_pars_df\u001b[49m\u001b[43m,\u001b[49m\u001b[43m \u001b[49m\u001b[38;5;124;43m\"\u001b[39;49m\u001b[38;5;124;43mmpc\u001b[39;49m\u001b[38;5;124;43m\"\u001b[39;49m\u001b[43m,\u001b[49m\u001b[43m \u001b[49m\u001b[38;5;241;43m2000\u001b[39;49m\u001b[43m,\u001b[49m\u001b[43m \u001b[49m\u001b[38;5;241;43m20\u001b[39;49m\u001b[43m)\u001b[49m\n",
      "File \u001b[1;32md:\\Projects/Tools/daycentpy_git\\daycentpy\\dc_handler.py:539\u001b[0m, in \u001b[0;36mrun_dream\u001b[1;34m(wd, pars_df, parallel, rep, ngs)\u001b[0m\n\u001b[0;32m    537\u001b[0m sampler \u001b[38;5;241m=\u001b[39m spotpy\u001b[38;5;241m.\u001b[39malgorithms\u001b[38;5;241m.\u001b[39msceua(spot_setup, dbname\u001b[38;5;241m=\u001b[39m\u001b[38;5;124m\"\u001b[39m\u001b[38;5;124mSCEUA_hymod\u001b[39m\u001b[38;5;124m\"\u001b[39m, dbformat\u001b[38;5;241m=\u001b[39m\u001b[38;5;124m\"\u001b[39m\u001b[38;5;124mcsv\u001b[39m\u001b[38;5;124m\"\u001b[39m, parallel\u001b[38;5;241m=\u001b[39m\u001b[38;5;124m'\u001b[39m\u001b[38;5;124mmpc\u001b[39m\u001b[38;5;124m'\u001b[39m)\n\u001b[0;32m    538\u001b[0m \u001b[38;5;66;03m# Start the sampler, one can specify ngs, kstop, peps and pcento id desired\u001b[39;00m\n\u001b[1;32m--> 539\u001b[0m \u001b[43msampler\u001b[49m\u001b[38;5;241;43m.\u001b[39;49m\u001b[43msample\u001b[49m\u001b[43m(\u001b[49m\u001b[43mrep\u001b[49m\u001b[43m,\u001b[49m\u001b[43m \u001b[49m\u001b[43mngs\u001b[49m\u001b[38;5;241;43m=\u001b[39;49m\u001b[43mngs\u001b[49m\u001b[43m,\u001b[49m\u001b[43m \u001b[49m\u001b[43mkstop\u001b[49m\u001b[38;5;241;43m=\u001b[39;49m\u001b[38;5;241;43m3\u001b[39;49m\u001b[43m,\u001b[49m\u001b[43m \u001b[49m\u001b[43mpeps\u001b[49m\u001b[38;5;241;43m=\u001b[39;49m\u001b[38;5;241;43m0.1\u001b[39;49m\u001b[43m,\u001b[49m\u001b[43m \u001b[49m\u001b[43mpcento\u001b[49m\u001b[38;5;241;43m=\u001b[39;49m\u001b[38;5;241;43m0.1\u001b[39;49m\u001b[43m)\u001b[49m\n",
      "File \u001b[1;32m~\\Miniconda3\\envs\\daycentpy\\Lib\\site-packages\\spotpy\\algorithms\\sceua.py:213\u001b[0m, in \u001b[0;36msceua.sample\u001b[1;34m(self, repetitions, ngs, kstop, pcento, peps, max_loop_inc)\u001b[0m\n\u001b[0;32m    211\u001b[0m \u001b[38;5;66;03m# Burn in\u001b[39;00m\n\u001b[0;32m    212\u001b[0m param_generator \u001b[38;5;241m=\u001b[39m ((rep, x[rep]) \u001b[38;5;28;01mfor\u001b[39;00m rep \u001b[38;5;129;01min\u001b[39;00m \u001b[38;5;28mrange\u001b[39m(\u001b[38;5;28mint\u001b[39m(npt)))\n\u001b[1;32m--> 213\u001b[0m \u001b[38;5;28;01mfor\u001b[39;00m rep, randompar, simulations \u001b[38;5;129;01min\u001b[39;00m \u001b[38;5;28mself\u001b[39m\u001b[38;5;241m.\u001b[39mrepeat(param_generator):\n\u001b[0;32m    214\u001b[0m     \u001b[38;5;66;03m# Calculate the objective function\u001b[39;00m\n\u001b[0;32m    215\u001b[0m     like \u001b[38;5;241m=\u001b[39m \u001b[38;5;28mself\u001b[39m\u001b[38;5;241m.\u001b[39mpostprocessing(icall, randompar, simulations, chains\u001b[38;5;241m=\u001b[39m\u001b[38;5;241m0\u001b[39m)\n\u001b[0;32m    216\u001b[0m     xf[rep] \u001b[38;5;241m=\u001b[39m like\n",
      "File \u001b[1;32m~\\Miniconda3\\envs\\daycentpy\\Lib\\site-packages\\spotpy\\parallel\\mproc.py:53\u001b[0m, in \u001b[0;36mForEach.__call__\u001b[1;34m(self, jobs)\u001b[0m\n\u001b[0;32m     52\u001b[0m \u001b[38;5;28;01mdef\u001b[39;00m \u001b[38;5;21m__call__\u001b[39m(\u001b[38;5;28mself\u001b[39m, jobs):\n\u001b[1;32m---> 53\u001b[0m     results \u001b[38;5;241m=\u001b[39m \u001b[38;5;28;43mself\u001b[39;49m\u001b[38;5;241;43m.\u001b[39;49m\u001b[43mpool\u001b[49m\u001b[38;5;241;43m.\u001b[39;49m\u001b[43mmap\u001b[49m\u001b[43m(\u001b[49m\u001b[38;5;28;43mself\u001b[39;49m\u001b[38;5;241;43m.\u001b[39;49m\u001b[43mf\u001b[49m\u001b[43m,\u001b[49m\u001b[43m \u001b[49m\u001b[43mjobs\u001b[49m\u001b[43m)\u001b[49m\n\u001b[0;32m     54\u001b[0m     \u001b[38;5;28;01mfor\u001b[39;00m i \u001b[38;5;129;01min\u001b[39;00m results:\n\u001b[0;32m     55\u001b[0m         \u001b[38;5;28;01myield\u001b[39;00m i\n",
      "File \u001b[1;32m~\\Miniconda3\\envs\\daycentpy\\Lib\\site-packages\\pathos\\multiprocessing.py:135\u001b[0m, in \u001b[0;36mProcessPool.map\u001b[1;34m(self, f, *args, **kwds)\u001b[0m\n\u001b[0;32m    133\u001b[0m AbstractWorkerPool\u001b[38;5;241m.\u001b[39m_AbstractWorkerPool__map(\u001b[38;5;28mself\u001b[39m, f, \u001b[38;5;241m*\u001b[39margs, \u001b[38;5;241m*\u001b[39m\u001b[38;5;241m*\u001b[39mkwds)\n\u001b[0;32m    134\u001b[0m _pool \u001b[38;5;241m=\u001b[39m \u001b[38;5;28mself\u001b[39m\u001b[38;5;241m.\u001b[39m_serve()\n\u001b[1;32m--> 135\u001b[0m \u001b[38;5;28;01mreturn\u001b[39;00m \u001b[43m_pool\u001b[49m\u001b[38;5;241;43m.\u001b[39;49m\u001b[43mmap\u001b[49m\u001b[43m(\u001b[49m\u001b[43mstar\u001b[49m\u001b[43m(\u001b[49m\u001b[43mf\u001b[49m\u001b[43m)\u001b[49m\u001b[43m,\u001b[49m\u001b[43m \u001b[49m\u001b[38;5;28;43mzip\u001b[39;49m\u001b[43m(\u001b[49m\u001b[38;5;241;43m*\u001b[39;49m\u001b[43margs\u001b[49m\u001b[43m)\u001b[49m\u001b[43m)\u001b[49m\n",
      "File \u001b[1;32m~\\Miniconda3\\envs\\daycentpy\\Lib\\site-packages\\multiprocess\\pool.py:367\u001b[0m, in \u001b[0;36mPool.map\u001b[1;34m(self, func, iterable, chunksize)\u001b[0m\n\u001b[0;32m    362\u001b[0m \u001b[38;5;28;01mdef\u001b[39;00m \u001b[38;5;21mmap\u001b[39m(\u001b[38;5;28mself\u001b[39m, func, iterable, chunksize\u001b[38;5;241m=\u001b[39m\u001b[38;5;28;01mNone\u001b[39;00m):\n\u001b[0;32m    363\u001b[0m \u001b[38;5;250m    \u001b[39m\u001b[38;5;124;03m'''\u001b[39;00m\n\u001b[0;32m    364\u001b[0m \u001b[38;5;124;03m    Apply `func` to each element in `iterable`, collecting the results\u001b[39;00m\n\u001b[0;32m    365\u001b[0m \u001b[38;5;124;03m    in a list that is returned.\u001b[39;00m\n\u001b[0;32m    366\u001b[0m \u001b[38;5;124;03m    '''\u001b[39;00m\n\u001b[1;32m--> 367\u001b[0m     \u001b[38;5;28;01mreturn\u001b[39;00m \u001b[38;5;28;43mself\u001b[39;49m\u001b[38;5;241;43m.\u001b[39;49m\u001b[43m_map_async\u001b[49m\u001b[43m(\u001b[49m\u001b[43mfunc\u001b[49m\u001b[43m,\u001b[49m\u001b[43m \u001b[49m\u001b[43miterable\u001b[49m\u001b[43m,\u001b[49m\u001b[43m \u001b[49m\u001b[43mmapstar\u001b[49m\u001b[43m,\u001b[49m\u001b[43m \u001b[49m\u001b[43mchunksize\u001b[49m\u001b[43m)\u001b[49m\u001b[38;5;241;43m.\u001b[39;49m\u001b[43mget\u001b[49m\u001b[43m(\u001b[49m\u001b[43m)\u001b[49m\n",
      "File \u001b[1;32m~\\Miniconda3\\envs\\daycentpy\\Lib\\site-packages\\multiprocess\\pool.py:774\u001b[0m, in \u001b[0;36mApplyResult.get\u001b[1;34m(self, timeout)\u001b[0m\n\u001b[0;32m    772\u001b[0m     \u001b[38;5;28;01mreturn\u001b[39;00m \u001b[38;5;28mself\u001b[39m\u001b[38;5;241m.\u001b[39m_value\n\u001b[0;32m    773\u001b[0m \u001b[38;5;28;01melse\u001b[39;00m:\n\u001b[1;32m--> 774\u001b[0m     \u001b[38;5;28;01mraise\u001b[39;00m \u001b[38;5;28mself\u001b[39m\u001b[38;5;241m.\u001b[39m_value\n",
      "\u001b[1;31mPermissionError\u001b[0m: [Errno 13] Permission denied: 'd:\\\\Projects\\\\Tools\\\\DayCent-CUTE\\\\analysis\\\\cali\\\\main\\\\db_results.csv'"
     ]
    }
   ],
   "source": [
    "dc_handler.run_dream(wd, sel_pars_df, \"mpc\", 2000, 20)"
   ]
  },
  {
   "cell_type": "code",
   "execution_count": 14,
   "id": "e066d5f6",
   "metadata": {
    "scrolled": true
   },
   "outputs": [
    {
     "name": "stdout",
     "output_type": "stream",
     "text": [
      "Initializing the  DiffeRential Evolution Adaptive Metropolis (DREAM) algorithm  with  10  repetitions\n",
      "The objective function will be minimized\n",
      "Starting the DREAM algotrithm with 10 repetitions...\n",
      "Initialize  10  chain(s)...\n",
      "simulation\n",
      "14\n",
      "evaluation\n",
      "14\n",
      "1 of 10, minimal objective function=1.70555, time remaining: 00:01:25\n",
      "Initialize database...\n",
      "['csv', 'hdf5', 'ram', 'sql', 'custom', 'noData']\n",
      "simulation\n",
      "14\n",
      "evaluation\n",
      "14\n",
      "simulation\n",
      "14\n",
      "evaluation\n",
      "14\n",
      "simulation\n",
      "14\n",
      "evaluation\n",
      "14\n",
      "simulation\n",
      "14\n",
      "evaluation\n",
      "14\n",
      "simulation\n",
      "14\n",
      "evaluation\n",
      "14\n",
      "simulation\n",
      "14\n",
      "evaluation\n",
      "14\n",
      "simulation\n",
      "14\n",
      "evaluation\n",
      "14\n",
      "simulation\n",
      "14\n",
      "evaluation\n",
      "14\n",
      "simulation\n",
      "14\n",
      "evaluation\n",
      "14\n",
      "Beginn of Random Walk\n",
      "\n",
      "*** Final SPOTPY summary ***\n",
      "Total Duration: 21.23 seconds\n",
      "Total Repetitions: 10\n",
      "Minimal objective value: 1.70555\n",
      "Corresponding parameter setting:\n",
      "ANEREF(2): 4.60153\n",
      "ANEREF(3): 0.432159\n",
      "DEC3(1): 5.08212\n",
      "DEC4: 0.00282164\n",
      "DEC5(2): 0.153686\n",
      "FWLOSS(4): 0.374424\n",
      "OMLECH(1): 0.81347\n",
      "P1CO2A(2): 0.235406\n",
      "P1CO2B(2): 0.61777\n",
      "P2CO2(2): 0.582057\n",
      "P3CO2: 0.82451\n",
      "PMCO2(2): 0.539708\n",
      "PS1CO2(2): 0.604837\n",
      "PS1S3(1): 0.00392629\n",
      "PS1S3(2): 0.0564897\n",
      "PS2S3(1): 0.0031426\n",
      "PS2S3(2): 0.00730004\n",
      "TEFF(1): 22.1883\n",
      "TEFF(2): 0.227947\n",
      "WEFF(1): 25.9206\n",
      "WEFF(2): 11.7739\n",
      "dmp: 0.00677824\n",
      "dmpflux: 6.67378e-05\n",
      "FBM: 0.0469051\n",
      "FHP: 0.485241\n",
      "Till_Eff: 13.2061\n",
      "******************************\n",
      "\n",
      "d:\\Projects\\Tools\\DayCent-CUTE\\analysis\\cali\\main\n"
     ]
    }
   ],
   "source": [
    "dc_handler.demo_cali(wd, sel_pars_df)"
   ]
  },
  {
   "cell_type": "code",
   "execution_count": 15,
   "id": "e0bc465a",
   "metadata": {},
   "outputs": [
    {
     "ename": "NameError",
     "evalue": "name 'results' is not defined",
     "output_type": "error",
     "traceback": [
      "\u001b[1;31m---------------------------------------------------------------------------\u001b[0m",
      "\u001b[1;31mNameError\u001b[0m                                 Traceback (most recent call last)",
      "Cell \u001b[1;32mIn[15], line 1\u001b[0m\n\u001b[1;32m----> 1\u001b[0m \u001b[43mresults\u001b[49m\n",
      "\u001b[1;31mNameError\u001b[0m: name 'results' is not defined"
     ]
    }
   ],
   "source": [
    "results"
   ]
  },
  {
   "cell_type": "code",
   "execution_count": null,
   "id": "7475d679",
   "metadata": {},
   "outputs": [],
   "source": []
  },
  {
   "cell_type": "code",
   "execution_count": null,
   "id": "7487cda6",
   "metadata": {},
   "outputs": [],
   "source": []
  },
  {
   "cell_type": "code",
   "execution_count": null,
   "id": "e3e475a7",
   "metadata": {},
   "outputs": [],
   "source": []
  },
  {
   "cell_type": "code",
   "execution_count": null,
   "id": "778f00b0",
   "metadata": {},
   "outputs": [],
   "source": []
  },
  {
   "cell_type": "code",
   "execution_count": null,
   "id": "ff11afb6",
   "metadata": {},
   "outputs": [],
   "source": []
  },
  {
   "cell_type": "code",
   "execution_count": null,
   "id": "a8ce2218",
   "metadata": {},
   "outputs": [],
   "source": []
  },
  {
   "cell_type": "code",
   "execution_count": null,
   "id": "70195648",
   "metadata": {},
   "outputs": [],
   "source": []
  },
  {
   "cell_type": "code",
   "execution_count": null,
   "id": "0389f6b7",
   "metadata": {},
   "outputs": [],
   "source": []
  }
 ],
 "metadata": {
  "kernelspec": {
   "display_name": "Python 3 (ipykernel)",
   "language": "python",
   "name": "python3"
  },
  "language_info": {
   "codemirror_mode": {
    "name": "ipython",
    "version": 3
   },
   "file_extension": ".py",
   "mimetype": "text/x-python",
   "name": "python",
   "nbconvert_exporter": "python",
   "pygments_lexer": "ipython3",
   "version": "3.11.0"
  },
  "vscode": {
   "interpreter": {
    "hash": "1c3d6adcba5cb95baad817a9a2bacdcf7a7b35120200bfc0a215c27640824492"
   }
  }
 },
 "nbformat": 4,
 "nbformat_minor": 5
}
