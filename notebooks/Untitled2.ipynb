{
 "cells": [
  {
   "cell_type": "code",
   "execution_count": 33,
   "id": "fd6c8063",
   "metadata": {},
   "outputs": [],
   "source": [
    "import os\n",
    "import itertools\n",
    "import numpy as np\n",
    "import subprocess\n",
    "import pandas as pd"
   ]
  },
  {
   "cell_type": "code",
   "execution_count": 2,
   "id": "c2898ba7",
   "metadata": {},
   "outputs": [],
   "source": [
    "wd = \"d:/Projects/Tools/DayCent-CUTE/tools/test01/dream_worker001/\""
   ]
  },
  {
   "cell_type": "code",
   "execution_count": 3,
   "id": "9400b2d9",
   "metadata": {},
   "outputs": [],
   "source": [
    "os.chdir(wd)"
   ]
  },
  {
   "cell_type": "code",
   "execution_count": 4,
   "id": "38321ad7",
   "metadata": {},
   "outputs": [],
   "source": [
    "fnam = \"DayCentRUN.DAT\""
   ]
  },
  {
   "cell_type": "code",
   "execution_count": 5,
   "id": "f592d680",
   "metadata": {},
   "outputs": [
    {
     "name": "stdout",
     "output_type": "stream",
     "text": [
      "['wooster', 'wooster_cb_ct', 'wooster_cb_ct', 'wooster_base']\n",
      "['wooster', 'wooster_ccc_nt', 'wooster_ccc_nt', 'wooster_base']\n",
      "['wooster', 'wooster_cb_nt', 'wooster_cb_nt', 'wooster_base']\n"
     ]
    }
   ],
   "source": [
    "with open(fnam) as f:\n",
    "    for txtline in itertools.islice(f, 1, None):  # start=1, stop = None\n",
    "        txtline = txtline.split()\n",
    "#         if len(txtline) == 0:\n",
    "#             parm.fnam1.close()\n",
    "#             parm.iflg = 1\n",
    "\n",
    "        print(txtline)"
   ]
  },
  {
   "cell_type": "code",
   "execution_count": null,
   "id": "b4157a5d",
   "metadata": {},
   "outputs": [],
   "source": [
    "with open('\"DayCentRUN.DAT\"', \"r\") as f:\n",
    "    updated = []\n",
    "    for line in f.readlines():\n",
    "        parnam = line.split()[1].strip().replace(\"'\", \"\").replace(\",\", \"_\")\n",
    "        if (parnam in dc_parms.loc[:, \"name\"].tolist()):\n",
    "            new_val = dc_parms.loc[dc_parms['name'] == parnam, \"val\"].tolist()[0]\n",
    "            new_line = f\"{new_val:<14.4f}{line.split()[1].strip()}\\n\"\n",
    "            updated.append(new_line)\n",
    "        else:\n",
    "            updated.append(line)"
   ]
  },
  {
   "cell_type": "code",
   "execution_count": 9,
   "id": "96b8af89",
   "metadata": {},
   "outputs": [],
   "source": []
  },
  {
   "cell_type": "code",
   "execution_count": 16,
   "id": "3ee377e0",
   "metadata": {},
   "outputs": [
    {
     "data": {
      "text/plain": [
       "'wooster'"
      ]
     },
     "execution_count": 16,
     "metadata": {},
     "output_type": "execute_result"
    }
   ],
   "source": [
    "data[0][0]"
   ]
  },
  {
   "cell_type": "code",
   "execution_count": 12,
   "id": "4c6a870a",
   "metadata": {},
   "outputs": [
    {
     "data": {
      "text/plain": [
       "(4, 4)"
      ]
     },
     "execution_count": 12,
     "metadata": {},
     "output_type": "execute_result"
    }
   ],
   "source": [
    "np.shape(data)"
   ]
  },
  {
   "cell_type": "code",
   "execution_count": 17,
   "id": "9c82e532",
   "metadata": {},
   "outputs": [
    {
     "data": {
      "text/plain": [
       "list"
      ]
     },
     "execution_count": 17,
     "metadata": {},
     "output_type": "execute_result"
    }
   ],
   "source": [
    "type(data)"
   ]
  },
  {
   "cell_type": "code",
   "execution_count": 24,
   "id": "10a8de7b",
   "metadata": {},
   "outputs": [
    {
     "data": {
      "text/plain": [
       "'d:\\\\Projects\\\\Tools\\\\DayCent-CUTE\\\\tools\\\\test01\\\\dream_worker001'"
      ]
     },
     "execution_count": 24,
     "metadata": {},
     "output_type": "execute_result"
    }
   ],
   "source": [
    "os.getcwd()"
   ]
  },
  {
   "cell_type": "code",
   "execution_count": 30,
   "id": "f08d0dd9",
   "metadata": {},
   "outputs": [
    {
     "name": "stdout",
     "output_type": "stream",
     "text": [
      "  Simulation complete ...\n"
     ]
    }
   ],
   "source": [
    "with open(\"DayCentRUN.DAT\", \"r\") as f:\n",
    "    data = [x.strip().split() for x in f]\n",
    "for i in range(len(data)):\n",
    "    if os.path.isfile(data[i][1]+\".bin\"):\n",
    "        os.remove(data[i][1]+\".bin\")\n",
    "    comline = 'DD17centEVI.exe -s {} -n {} -e {}'.format(data[i][1], data[i][1], data[i][3])\n",
    "    run_model = subprocess.Popen(comline, cwd=\".\")\n",
    "    run_model.wait()\n",
    "    comline2 = 'DD17list100.exe {} {} {}'.format(data[i][1], data[i][1], 'outvars.txt')\n",
    "    extract_model = subprocess.Popen(comline2, cwd=\".\")\n",
    "    extract_model.wait()\n",
    "print('  Simulation complete ...')"
   ]
  },
  {
   "cell_type": "code",
   "execution_count": 42,
   "id": "01e0d39d",
   "metadata": {},
   "outputs": [
    {
     "data": {
      "text/plain": [
       "[['wooster', 'wooster_ccc_ct', 'wooster_ccc_ct', 'wooster_base'],\n",
       " ['wooster', 'wooster_cb_ct', 'wooster_cb_ct', 'wooster_base'],\n",
       " ['wooster', 'wooster_ccc_nt', 'wooster_ccc_nt', 'wooster_base'],\n",
       " ['wooster', 'wooster_cb_nt', 'wooster_cb_nt', 'wooster_base']]"
      ]
     },
     "execution_count": 42,
     "metadata": {},
     "output_type": "execute_result"
    }
   ],
   "source": [
    "with open(\"DayCentRUN.DAT\", \"r\") as f:\n",
    "    data = [x.strip().split() for x in f]\n",
    "    \n",
    "# get simulation output dataset\n",
    "data\n",
    "    \n",
    "    "
   ]
  },
  {
   "cell_type": "code",
   "execution_count": 19,
   "id": "6a81a90d",
   "metadata": {},
   "outputs": [
    {
     "data": {
      "text/plain": [
       "[['wooster', 'wooster_ccc_ct', 'wooster_ccc_ct', 'wooster_base'],\n",
       " ['wooster', 'wooster_cb_ct', 'wooster_cb_ct', 'wooster_base'],\n",
       " ['wooster', 'wooster_ccc_nt', 'wooster_ccc_nt', 'wooster_base'],\n",
       " ['wooster', 'wooster_cb_nt', 'wooster_cb_nt', 'wooster_base']]"
      ]
     },
     "execution_count": 19,
     "metadata": {},
     "output_type": "execute_result"
    }
   ],
   "source": [
    "sim_df = pd.DataFrame()\n",
    "\n",
    "\n",
    "# NOTE: temp inputs\n",
    "outf = \"wooster_ccc_nt.lis\"\n",
    "df = pd.read_csv( outf, sep=r'\\s+', skiprows=1)\n",
    "df_sel = df.loc[(df['time']>=1971.08) & (df['time']=<1994.00)]\n",
    "df_sel.index = pd.date_range(start='1/1/1971', periods=len(df_sel), freq='M')\n",
    "dfa = df_sel.resample('A').mean()\n",
    "dfa.index = dfa.index.year\n",
    "\n",
    "\n",
    "obd = read_observed_data()\n",
    "comb = pd.concat([dfa, obd], axis=1)\n",
    "comb.dropna(axis=0, inplace=True)\n",
    "sim_list = comb.iloc[:,1].tolist() + comb.iloc[:,0].tolist()\n",
    "return sim_list"
   ]
  },
  {
   "cell_type": "code",
   "execution_count": 21,
   "id": "7c2fa62b",
   "metadata": {},
   "outputs": [
    {
     "data": {
      "text/plain": [
       "3"
      ]
     },
     "execution_count": 21,
     "metadata": {},
     "output_type": "execute_result"
    }
   ],
   "source": [
    "len(a)"
   ]
  },
  {
   "cell_type": "code",
   "execution_count": 49,
   "id": "9e4f11ce",
   "metadata": {},
   "outputs": [
    {
     "name": "stdout",
     "output_type": "stream",
     "text": [
      "ccc_ct\n",
      "cb_ct\n",
      "ccc_nt\n",
      "cb_nt\n"
     ]
    }
   ],
   "source": [
    "for i in range(len(data)):\n",
    "    print(data[i][1][8:])"
   ]
  },
  {
   "cell_type": "code",
   "execution_count": 97,
   "id": "73497010",
   "metadata": {},
   "outputs": [],
   "source": [
    "# get all sims\n",
    "sim_df = pd.DataFrame()\n",
    "for i in range(len(data)):\n",
    "    outf = data[i][1]+\".lis\"\n",
    "    df = pd.read_csv( outf, sep=r'\\s+', skiprows=1)\n",
    "    df_sel = df.loc[(df['time']>=1971.08) & (df['time']<=1994.00)]\n",
    "    df_sel.index = pd.date_range(start='1/1/1971', periods=len(df_sel), freq='M')\n",
    "    dfa = df_sel.loc[:, ['somsc']].resample('A').mean()\n",
    "    dfa.index = dfa.index.year\n",
    "    dfa.rename(columns = {'somsc':'somsc_'+data[i][1][8:]}, inplace = True)\n",
    "    sim_df = pd.concat([sim_df, dfa], axis=1)\n",
    "    \n",
    "# get all obds\n",
    "obd_f = \"soc_obd.csv\"\n",
    "obd_df = pd.read_csv(obd_f).set_index('Year')  \n",
    "obd_df.replace(-999, np.nan, inplace=True)\n",
    "\n",
    "# filter only for calibration\n",
    "tot_df = pd.DataFrame()\n",
    "for col in sim_df.columns:\n",
    "    tt =  pd.concat([sim_df.loc[:, col], obd_df.loc[:, col]], axis=1).dropna(axis=0)\n",
    "    tt.columns = ['sim', 'obd']\n",
    "    tt['name'] = col\n",
    "    tot_df = pd.concat([tot_df, tt], axis=0)\n",
    "\n"
   ]
  },
  {
   "cell_type": "code",
   "execution_count": 98,
   "id": "5e8fe7be",
   "metadata": {},
   "outputs": [
    {
     "data": {
      "text/html": [
       "<div>\n",
       "<style scoped>\n",
       "    .dataframe tbody tr th:only-of-type {\n",
       "        vertical-align: middle;\n",
       "    }\n",
       "\n",
       "    .dataframe tbody tr th {\n",
       "        vertical-align: top;\n",
       "    }\n",
       "\n",
       "    .dataframe thead th {\n",
       "        text-align: right;\n",
       "    }\n",
       "</style>\n",
       "<table border=\"1\" class=\"dataframe\">\n",
       "  <thead>\n",
       "    <tr style=\"text-align: right;\">\n",
       "      <th></th>\n",
       "      <th>sim</th>\n",
       "      <th>obd</th>\n",
       "      <th>name</th>\n",
       "    </tr>\n",
       "  </thead>\n",
       "  <tbody>\n",
       "    <tr>\n",
       "      <th>1971</th>\n",
       "      <td>3264.180917</td>\n",
       "      <td>3493.0</td>\n",
       "      <td>somsc_ccc_ct</td>\n",
       "    </tr>\n",
       "    <tr>\n",
       "      <th>1980</th>\n",
       "      <td>3505.868833</td>\n",
       "      <td>2805.0</td>\n",
       "      <td>somsc_ccc_ct</td>\n",
       "    </tr>\n",
       "    <tr>\n",
       "      <th>1992</th>\n",
       "      <td>3441.234833</td>\n",
       "      <td>3210.0</td>\n",
       "      <td>somsc_ccc_ct</td>\n",
       "    </tr>\n",
       "    <tr>\n",
       "      <th>1980</th>\n",
       "      <td>3212.758750</td>\n",
       "      <td>2370.0</td>\n",
       "      <td>somsc_cb_ct</td>\n",
       "    </tr>\n",
       "    <tr>\n",
       "      <th>1992</th>\n",
       "      <td>3208.799917</td>\n",
       "      <td>2234.0</td>\n",
       "      <td>somsc_cb_ct</td>\n",
       "    </tr>\n",
       "    <tr>\n",
       "      <th>1971</th>\n",
       "      <td>3576.392667</td>\n",
       "      <td>4230.0</td>\n",
       "      <td>somsc_ccc_nt</td>\n",
       "    </tr>\n",
       "    <tr>\n",
       "      <th>1980</th>\n",
       "      <td>4195.852083</td>\n",
       "      <td>3500.0</td>\n",
       "      <td>somsc_ccc_nt</td>\n",
       "    </tr>\n",
       "    <tr>\n",
       "      <th>1992</th>\n",
       "      <td>4545.282833</td>\n",
       "      <td>4250.0</td>\n",
       "      <td>somsc_ccc_nt</td>\n",
       "    </tr>\n",
       "    <tr>\n",
       "      <th>1980</th>\n",
       "      <td>3819.261583</td>\n",
       "      <td>3260.0</td>\n",
       "      <td>somsc_cb_nt</td>\n",
       "    </tr>\n",
       "    <tr>\n",
       "      <th>1992</th>\n",
       "      <td>4179.870000</td>\n",
       "      <td>3673.0</td>\n",
       "      <td>somsc_cb_nt</td>\n",
       "    </tr>\n",
       "  </tbody>\n",
       "</table>\n",
       "</div>"
      ],
      "text/plain": [
       "              sim     obd          name\n",
       "1971  3264.180917  3493.0  somsc_ccc_ct\n",
       "1980  3505.868833  2805.0  somsc_ccc_ct\n",
       "1992  3441.234833  3210.0  somsc_ccc_ct\n",
       "1980  3212.758750  2370.0   somsc_cb_ct\n",
       "1992  3208.799917  2234.0   somsc_cb_ct\n",
       "1971  3576.392667  4230.0  somsc_ccc_nt\n",
       "1980  4195.852083  3500.0  somsc_ccc_nt\n",
       "1992  4545.282833  4250.0  somsc_ccc_nt\n",
       "1980  3819.261583  3260.0   somsc_cb_nt\n",
       "1992  4179.870000  3673.0   somsc_cb_nt"
      ]
     },
     "execution_count": 98,
     "metadata": {},
     "output_type": "execute_result"
    }
   ],
   "source": [
    "tot_df"
   ]
  },
  {
   "cell_type": "code",
   "execution_count": 91,
   "id": "e99a22de",
   "metadata": {},
   "outputs": [
    {
     "data": {
      "text/html": [
       "<div>\n",
       "<style scoped>\n",
       "    .dataframe tbody tr th:only-of-type {\n",
       "        vertical-align: middle;\n",
       "    }\n",
       "\n",
       "    .dataframe tbody tr th {\n",
       "        vertical-align: top;\n",
       "    }\n",
       "\n",
       "    .dataframe thead th {\n",
       "        text-align: right;\n",
       "    }\n",
       "</style>\n",
       "<table border=\"1\" class=\"dataframe\">\n",
       "  <thead>\n",
       "    <tr style=\"text-align: right;\">\n",
       "      <th></th>\n",
       "      <th>somsc_cb_nt</th>\n",
       "      <th>somsc_cb_ct</th>\n",
       "      <th>somsc_ccc_ct</th>\n",
       "      <th>somsc_ccc_nt</th>\n",
       "    </tr>\n",
       "    <tr>\n",
       "      <th>Year</th>\n",
       "      <th></th>\n",
       "      <th></th>\n",
       "      <th></th>\n",
       "      <th></th>\n",
       "    </tr>\n",
       "  </thead>\n",
       "  <tbody>\n",
       "    <tr>\n",
       "      <th>1971</th>\n",
       "      <td>NaN</td>\n",
       "      <td>NaN</td>\n",
       "      <td>3493</td>\n",
       "      <td>4230</td>\n",
       "    </tr>\n",
       "    <tr>\n",
       "      <th>1980</th>\n",
       "      <td>3260.0</td>\n",
       "      <td>2370.0</td>\n",
       "      <td>2805</td>\n",
       "      <td>3500</td>\n",
       "    </tr>\n",
       "    <tr>\n",
       "      <th>1992</th>\n",
       "      <td>3673.0</td>\n",
       "      <td>2234.0</td>\n",
       "      <td>3210</td>\n",
       "      <td>4250</td>\n",
       "    </tr>\n",
       "  </tbody>\n",
       "</table>\n",
       "</div>"
      ],
      "text/plain": [
       "      somsc_cb_nt  somsc_cb_ct  somsc_ccc_ct  somsc_ccc_nt\n",
       "Year                                                      \n",
       "1971          NaN          NaN          3493          4230\n",
       "1980       3260.0       2370.0          2805          3500\n",
       "1992       3673.0       2234.0          3210          4250"
      ]
     },
     "execution_count": 91,
     "metadata": {},
     "output_type": "execute_result"
    }
   ],
   "source": [
    "obd_f = \"soc_obd.csv\"\n",
    "obd_df = pd.read_csv(obd_f).set_index('Year')  \n",
    "obd_df.replace(-999, np.nan, inplace=True)\n",
    "obd_df"
   ]
  },
  {
   "cell_type": "code",
   "execution_count": 95,
   "id": "6947d1f0",
   "metadata": {},
   "outputs": [
    {
     "name": "stdout",
     "output_type": "stream",
     "text": [
      "              sim     obd          name\n",
      "1971  3264.180917  3493.0  somsc_ccc_ct\n",
      "1980  3505.868833  2805.0  somsc_ccc_ct\n",
      "1992  3441.234833  3210.0  somsc_ccc_ct\n",
      "              sim     obd         name\n",
      "1980  3212.758750  2370.0  somsc_cb_ct\n",
      "1992  3208.799917  2234.0  somsc_cb_ct\n",
      "              sim     obd          name\n",
      "1971  3576.392667  4230.0  somsc_ccc_nt\n",
      "1980  4195.852083  3500.0  somsc_ccc_nt\n",
      "1992  4545.282833  4250.0  somsc_ccc_nt\n",
      "              sim     obd         name\n",
      "1980  3819.261583  3260.0  somsc_cb_nt\n",
      "1992  4179.870000  3673.0  somsc_cb_nt\n"
     ]
    }
   ],
   "source": [
    "tot_df = pd.DataFrame()\n",
    "for col in sim_df.columns:\n",
    "    tt =  pd.concat([sim_df.loc[:, col], obd_df.loc[:, col]], axis=1).dropna(axis=0)\n",
    "    tt.columns = ['sim', 'obd']\n",
    "    tt['name'] = col\n",
    "    tot_df = pd.concat([tot_df, tt], axis=0)\n"
   ]
  },
  {
   "cell_type": "code",
   "execution_count": 96,
   "id": "41cf909a",
   "metadata": {},
   "outputs": [
    {
     "data": {
      "text/html": [
       "<div>\n",
       "<style scoped>\n",
       "    .dataframe tbody tr th:only-of-type {\n",
       "        vertical-align: middle;\n",
       "    }\n",
       "\n",
       "    .dataframe tbody tr th {\n",
       "        vertical-align: top;\n",
       "    }\n",
       "\n",
       "    .dataframe thead th {\n",
       "        text-align: right;\n",
       "    }\n",
       "</style>\n",
       "<table border=\"1\" class=\"dataframe\">\n",
       "  <thead>\n",
       "    <tr style=\"text-align: right;\">\n",
       "      <th></th>\n",
       "      <th>sim</th>\n",
       "      <th>obd</th>\n",
       "      <th>name</th>\n",
       "    </tr>\n",
       "  </thead>\n",
       "  <tbody>\n",
       "    <tr>\n",
       "      <th>1971</th>\n",
       "      <td>3264.180917</td>\n",
       "      <td>3493.0</td>\n",
       "      <td>somsc_ccc_ct</td>\n",
       "    </tr>\n",
       "    <tr>\n",
       "      <th>1980</th>\n",
       "      <td>3505.868833</td>\n",
       "      <td>2805.0</td>\n",
       "      <td>somsc_ccc_ct</td>\n",
       "    </tr>\n",
       "    <tr>\n",
       "      <th>1992</th>\n",
       "      <td>3441.234833</td>\n",
       "      <td>3210.0</td>\n",
       "      <td>somsc_ccc_ct</td>\n",
       "    </tr>\n",
       "    <tr>\n",
       "      <th>1980</th>\n",
       "      <td>3212.758750</td>\n",
       "      <td>2370.0</td>\n",
       "      <td>somsc_cb_ct</td>\n",
       "    </tr>\n",
       "    <tr>\n",
       "      <th>1992</th>\n",
       "      <td>3208.799917</td>\n",
       "      <td>2234.0</td>\n",
       "      <td>somsc_cb_ct</td>\n",
       "    </tr>\n",
       "    <tr>\n",
       "      <th>1971</th>\n",
       "      <td>3576.392667</td>\n",
       "      <td>4230.0</td>\n",
       "      <td>somsc_ccc_nt</td>\n",
       "    </tr>\n",
       "    <tr>\n",
       "      <th>1980</th>\n",
       "      <td>4195.852083</td>\n",
       "      <td>3500.0</td>\n",
       "      <td>somsc_ccc_nt</td>\n",
       "    </tr>\n",
       "    <tr>\n",
       "      <th>1992</th>\n",
       "      <td>4545.282833</td>\n",
       "      <td>4250.0</td>\n",
       "      <td>somsc_ccc_nt</td>\n",
       "    </tr>\n",
       "    <tr>\n",
       "      <th>1980</th>\n",
       "      <td>3819.261583</td>\n",
       "      <td>3260.0</td>\n",
       "      <td>somsc_cb_nt</td>\n",
       "    </tr>\n",
       "    <tr>\n",
       "      <th>1992</th>\n",
       "      <td>4179.870000</td>\n",
       "      <td>3673.0</td>\n",
       "      <td>somsc_cb_nt</td>\n",
       "    </tr>\n",
       "  </tbody>\n",
       "</table>\n",
       "</div>"
      ],
      "text/plain": [
       "              sim     obd          name\n",
       "1971  3264.180917  3493.0  somsc_ccc_ct\n",
       "1980  3505.868833  2805.0  somsc_ccc_ct\n",
       "1992  3441.234833  3210.0  somsc_ccc_ct\n",
       "1980  3212.758750  2370.0   somsc_cb_ct\n",
       "1992  3208.799917  2234.0   somsc_cb_ct\n",
       "1971  3576.392667  4230.0  somsc_ccc_nt\n",
       "1980  4195.852083  3500.0  somsc_ccc_nt\n",
       "1992  4545.282833  4250.0  somsc_ccc_nt\n",
       "1980  3819.261583  3260.0   somsc_cb_nt\n",
       "1992  4179.870000  3673.0   somsc_cb_nt"
      ]
     },
     "execution_count": 96,
     "metadata": {},
     "output_type": "execute_result"
    }
   ],
   "source": [
    "tot_df"
   ]
  },
  {
   "cell_type": "code",
   "execution_count": 55,
   "id": "856490eb",
   "metadata": {},
   "outputs": [
    {
     "data": {
      "text/plain": [
       "1971    3576.392667\n",
       "1972    3649.640583\n",
       "1973    3724.723667\n",
       "1974    3802.821000\n",
       "1975    3874.368250\n",
       "1976    3951.018750\n",
       "1977    4011.787083\n",
       "1978    4076.274583\n",
       "1979    4142.703917\n",
       "1980    4195.852083\n",
       "1981    4230.657500\n",
       "1982    4252.585333\n",
       "1983    4259.157083\n",
       "1984    4256.192083\n",
       "1985    4270.419750\n",
       "1986    4290.811917\n",
       "1987    4327.455583\n",
       "1988    4377.204167\n",
       "1989    4416.286750\n",
       "1990    4458.762750\n",
       "1991    4499.521500\n",
       "1992    4545.282833\n",
       "1993    4577.368750\n",
       "Name: hi, dtype: float64"
      ]
     },
     "execution_count": 55,
     "metadata": {},
     "output_type": "execute_result"
    }
   ],
   "source": [
    "dfa.rename('hi')"
   ]
  },
  {
   "cell_type": "code",
   "execution_count": 116,
   "id": "9903269b",
   "metadata": {},
   "outputs": [],
   "source": [
    "df_fix = pd.read_csv('dc_fix.parms.csv')\n",
    "df_site = pd.read_csv('dc_site.parms.csv')"
   ]
  },
  {
   "cell_type": "code",
   "execution_count": 117,
   "id": "a19ffb58",
   "metadata": {},
   "outputs": [],
   "source": [
    "dff = pd.concat([df_fix, df_site], axis=0)"
   ]
  },
  {
   "cell_type": "code",
   "execution_count": 118,
   "id": "5cfbbb42",
   "metadata": {
    "scrolled": true
   },
   "outputs": [
    {
     "data": {
      "text/html": [
       "<div>\n",
       "<style scoped>\n",
       "    .dataframe tbody tr th:only-of-type {\n",
       "        vertical-align: middle;\n",
       "    }\n",
       "\n",
       "    .dataframe tbody tr th {\n",
       "        vertical-align: top;\n",
       "    }\n",
       "\n",
       "    .dataframe thead th {\n",
       "        text-align: right;\n",
       "    }\n",
       "</style>\n",
       "<table border=\"1\" class=\"dataframe\">\n",
       "  <thead>\n",
       "    <tr style=\"text-align: right;\">\n",
       "      <th></th>\n",
       "      <th>name</th>\n",
       "      <th>select</th>\n",
       "      <th>default</th>\n",
       "      <th>min</th>\n",
       "      <th>max</th>\n",
       "    </tr>\n",
       "  </thead>\n",
       "  <tbody>\n",
       "    <tr>\n",
       "      <th>0</th>\n",
       "      <td>ANEREF(1)</td>\n",
       "      <td>1</td>\n",
       "      <td>1.500000</td>\n",
       "      <td>1.000000</td>\n",
       "      <td>2.0000</td>\n",
       "    </tr>\n",
       "    <tr>\n",
       "      <th>1</th>\n",
       "      <td>ANEREF(2)</td>\n",
       "      <td>1</td>\n",
       "      <td>3.000000</td>\n",
       "      <td>2.800000</td>\n",
       "      <td>5.0000</td>\n",
       "    </tr>\n",
       "    <tr>\n",
       "      <th>2</th>\n",
       "      <td>ANEREF(3)</td>\n",
       "      <td>1</td>\n",
       "      <td>1.000000</td>\n",
       "      <td>0.200000</td>\n",
       "      <td>1.1000</td>\n",
       "    </tr>\n",
       "    <tr>\n",
       "      <th>3</th>\n",
       "      <td>DAMR(1_1)</td>\n",
       "      <td>1</td>\n",
       "      <td>0.200000</td>\n",
       "      <td>0.002000</td>\n",
       "      <td>0.3000</td>\n",
       "    </tr>\n",
       "    <tr>\n",
       "      <th>4</th>\n",
       "      <td>DAMRMN(1)</td>\n",
       "      <td>1</td>\n",
       "      <td>15.000000</td>\n",
       "      <td>5.000000</td>\n",
       "      <td>30.0000</td>\n",
       "    </tr>\n",
       "    <tr>\n",
       "      <th>5</th>\n",
       "      <td>DEC1(1)</td>\n",
       "      <td>1</td>\n",
       "      <td>3.900000</td>\n",
       "      <td>3.000000</td>\n",
       "      <td>5.0000</td>\n",
       "    </tr>\n",
       "    <tr>\n",
       "      <th>6</th>\n",
       "      <td>DEC1(2)</td>\n",
       "      <td>1</td>\n",
       "      <td>4.900000</td>\n",
       "      <td>3.000000</td>\n",
       "      <td>7.0000</td>\n",
       "    </tr>\n",
       "    <tr>\n",
       "      <th>7</th>\n",
       "      <td>DEC2(1)</td>\n",
       "      <td>1</td>\n",
       "      <td>14.800000</td>\n",
       "      <td>12.000000</td>\n",
       "      <td>18.0000</td>\n",
       "    </tr>\n",
       "    <tr>\n",
       "      <th>8</th>\n",
       "      <td>DEC2(2)</td>\n",
       "      <td>1</td>\n",
       "      <td>18.500000</td>\n",
       "      <td>16.000000</td>\n",
       "      <td>21.0000</td>\n",
       "    </tr>\n",
       "    <tr>\n",
       "      <th>9</th>\n",
       "      <td>DEC3(1)</td>\n",
       "      <td>1</td>\n",
       "      <td>6.000000</td>\n",
       "      <td>4.000000</td>\n",
       "      <td>8.0000</td>\n",
       "    </tr>\n",
       "    <tr>\n",
       "      <th>10</th>\n",
       "      <td>DEC3(2)</td>\n",
       "      <td>1</td>\n",
       "      <td>7.300000</td>\n",
       "      <td>5.000000</td>\n",
       "      <td>10.0000</td>\n",
       "    </tr>\n",
       "    <tr>\n",
       "      <th>11</th>\n",
       "      <td>DEC4</td>\n",
       "      <td>1</td>\n",
       "      <td>0.002200</td>\n",
       "      <td>0.002000</td>\n",
       "      <td>0.0300</td>\n",
       "    </tr>\n",
       "    <tr>\n",
       "      <th>12</th>\n",
       "      <td>DEC5(2)</td>\n",
       "      <td>1</td>\n",
       "      <td>0.120000</td>\n",
       "      <td>0.070000</td>\n",
       "      <td>0.2500</td>\n",
       "    </tr>\n",
       "    <tr>\n",
       "      <th>13</th>\n",
       "      <td>FWLOSS(4)</td>\n",
       "      <td>1</td>\n",
       "      <td>0.750000</td>\n",
       "      <td>0.200000</td>\n",
       "      <td>2.0000</td>\n",
       "    </tr>\n",
       "    <tr>\n",
       "      <th>14</th>\n",
       "      <td>OMLECH(1)</td>\n",
       "      <td>1</td>\n",
       "      <td>0.030000</td>\n",
       "      <td>0.000001</td>\n",
       "      <td>1.0000</td>\n",
       "    </tr>\n",
       "    <tr>\n",
       "      <th>15</th>\n",
       "      <td>P1CO2A(2)</td>\n",
       "      <td>1</td>\n",
       "      <td>0.170000</td>\n",
       "      <td>0.100000</td>\n",
       "      <td>0.2500</td>\n",
       "    </tr>\n",
       "    <tr>\n",
       "      <th>16</th>\n",
       "      <td>P1CO2B(2)</td>\n",
       "      <td>1</td>\n",
       "      <td>0.680000</td>\n",
       "      <td>0.550000</td>\n",
       "      <td>0.7400</td>\n",
       "    </tr>\n",
       "    <tr>\n",
       "      <th>17</th>\n",
       "      <td>P2CO2(2)</td>\n",
       "      <td>1</td>\n",
       "      <td>0.550000</td>\n",
       "      <td>0.500000</td>\n",
       "      <td>0.8000</td>\n",
       "    </tr>\n",
       "    <tr>\n",
       "      <th>18</th>\n",
       "      <td>PEFTXA</td>\n",
       "      <td>1</td>\n",
       "      <td>0.200000</td>\n",
       "      <td>0.100000</td>\n",
       "      <td>0.7000</td>\n",
       "    </tr>\n",
       "    <tr>\n",
       "      <th>19</th>\n",
       "      <td>PMCO2(2)</td>\n",
       "      <td>1</td>\n",
       "      <td>0.550000</td>\n",
       "      <td>0.350000</td>\n",
       "      <td>0.7000</td>\n",
       "    </tr>\n",
       "    <tr>\n",
       "      <th>20</th>\n",
       "      <td>PS1CO2(2)</td>\n",
       "      <td>1</td>\n",
       "      <td>0.550000</td>\n",
       "      <td>0.400000</td>\n",
       "      <td>0.8000</td>\n",
       "    </tr>\n",
       "    <tr>\n",
       "      <th>21</th>\n",
       "      <td>TEFF(1)</td>\n",
       "      <td>1</td>\n",
       "      <td>15.400000</td>\n",
       "      <td>5.000000</td>\n",
       "      <td>20.0000</td>\n",
       "    </tr>\n",
       "    <tr>\n",
       "      <th>22</th>\n",
       "      <td>TEFF(2)</td>\n",
       "      <td>1</td>\n",
       "      <td>11.750000</td>\n",
       "      <td>2.000000</td>\n",
       "      <td>20.0000</td>\n",
       "    </tr>\n",
       "    <tr>\n",
       "      <th>23</th>\n",
       "      <td>TEFF(3)</td>\n",
       "      <td>1</td>\n",
       "      <td>29.700000</td>\n",
       "      <td>10.000000</td>\n",
       "      <td>40.0000</td>\n",
       "    </tr>\n",
       "    <tr>\n",
       "      <th>24</th>\n",
       "      <td>TEFF(4)</td>\n",
       "      <td>1</td>\n",
       "      <td>0.031000</td>\n",
       "      <td>0.010000</td>\n",
       "      <td>0.0400</td>\n",
       "    </tr>\n",
       "    <tr>\n",
       "      <th>0</th>\n",
       "      <td>dmp</td>\n",
       "      <td>1</td>\n",
       "      <td>0.003000</td>\n",
       "      <td>0.001000</td>\n",
       "      <td>0.0100</td>\n",
       "    </tr>\n",
       "    <tr>\n",
       "      <th>1</th>\n",
       "      <td>dmpflux</td>\n",
       "      <td>1</td>\n",
       "      <td>0.000008</td>\n",
       "      <td>0.000001</td>\n",
       "      <td>0.0001</td>\n",
       "    </tr>\n",
       "    <tr>\n",
       "      <th>2</th>\n",
       "      <td>N2Oadjust_fc</td>\n",
       "      <td>1</td>\n",
       "      <td>0.025000</td>\n",
       "      <td>0.001000</td>\n",
       "      <td>1.0000</td>\n",
       "    </tr>\n",
       "    <tr>\n",
       "      <th>3</th>\n",
       "      <td>N2Oadjust_wp</td>\n",
       "      <td>1</td>\n",
       "      <td>0.020000</td>\n",
       "      <td>0.005000</td>\n",
       "      <td>1.0000</td>\n",
       "    </tr>\n",
       "    <tr>\n",
       "      <th>4</th>\n",
       "      <td>N2N2Oadj</td>\n",
       "      <td>1</td>\n",
       "      <td>1.000000</td>\n",
       "      <td>0.100000</td>\n",
       "      <td>2.0000</td>\n",
       "    </tr>\n",
       "  </tbody>\n",
       "</table>\n",
       "</div>"
      ],
      "text/plain": [
       "            name  select    default        min      max\n",
       "0      ANEREF(1)       1   1.500000   1.000000   2.0000\n",
       "1      ANEREF(2)       1   3.000000   2.800000   5.0000\n",
       "2      ANEREF(3)       1   1.000000   0.200000   1.1000\n",
       "3      DAMR(1_1)       1   0.200000   0.002000   0.3000\n",
       "4      DAMRMN(1)       1  15.000000   5.000000  30.0000\n",
       "5        DEC1(1)       1   3.900000   3.000000   5.0000\n",
       "6        DEC1(2)       1   4.900000   3.000000   7.0000\n",
       "7        DEC2(1)       1  14.800000  12.000000  18.0000\n",
       "8        DEC2(2)       1  18.500000  16.000000  21.0000\n",
       "9        DEC3(1)       1   6.000000   4.000000   8.0000\n",
       "10       DEC3(2)       1   7.300000   5.000000  10.0000\n",
       "11          DEC4       1   0.002200   0.002000   0.0300\n",
       "12       DEC5(2)       1   0.120000   0.070000   0.2500\n",
       "13     FWLOSS(4)       1   0.750000   0.200000   2.0000\n",
       "14     OMLECH(1)       1   0.030000   0.000001   1.0000\n",
       "15     P1CO2A(2)       1   0.170000   0.100000   0.2500\n",
       "16     P1CO2B(2)       1   0.680000   0.550000   0.7400\n",
       "17      P2CO2(2)       1   0.550000   0.500000   0.8000\n",
       "18        PEFTXA       1   0.200000   0.100000   0.7000\n",
       "19      PMCO2(2)       1   0.550000   0.350000   0.7000\n",
       "20     PS1CO2(2)       1   0.550000   0.400000   0.8000\n",
       "21       TEFF(1)       1  15.400000   5.000000  20.0000\n",
       "22       TEFF(2)       1  11.750000   2.000000  20.0000\n",
       "23       TEFF(3)       1  29.700000  10.000000  40.0000\n",
       "24       TEFF(4)       1   0.031000   0.010000   0.0400\n",
       "0            dmp       1   0.003000   0.001000   0.0100\n",
       "1        dmpflux       1   0.000008   0.000001   0.0001\n",
       "2   N2Oadjust_fc       1   0.025000   0.001000   1.0000\n",
       "3   N2Oadjust_wp       1   0.020000   0.005000   1.0000\n",
       "4       N2N2Oadj       1   1.000000   0.100000   2.0000"
      ]
     },
     "execution_count": 118,
     "metadata": {},
     "output_type": "execute_result"
    }
   ],
   "source": [
    "dff"
   ]
  },
  {
   "cell_type": "code",
   "execution_count": 135,
   "id": "86771f4f",
   "metadata": {},
   "outputs": [],
   "source": [
    "# for i in range(len(dff)):\n",
    "#     dff.loc[i, 'val'] = 'cha'\n",
    "dff['val'] = 50\n",
    "\n",
    "with open('fix.100', \"r\") as f:\n",
    "    updated = []\n",
    "    for line in f.readlines():\n",
    "        parnam = line.split()[1].strip().replace(\"'\", \"\").replace(\",\", \"_\")\n",
    "        if (parnam in dff.loc[:, \"name\"].tolist()):\n",
    "            new_val = dff.loc[dff['name'] == parnam, \"val\"].tolist()[0]\n",
    "            new_line = f\"{new_val:<14.4f}{line.split()[1].strip()}\\n\"\n",
    "            updated.append(new_line)\n",
    "        else:\n",
    "            updated.append(line)\n",
    "\n",
    "with open('fix.100', \"w\") as wf:\n",
    "    wf.writelines(updated)\n",
    "    \n",
    "    \n",
    "with open('sitepar.in', \"r\") as f:\n",
    "    updated = []\n",
    "    for line in f.readlines():\n",
    "        parnam = line.split()[2].strip()\n",
    "        if (parnam in dff.loc[:, \"name\"].tolist()):\n",
    "            new_val = dff.loc[dff['name'] == parnam, \"val\"].tolist()[0]\n",
    "            new_line = f\"{new_val:<11f}{line.split()[1].strip()} {line.split()[2].strip()}\\n\"\n",
    "            updated.append(new_line)\n",
    "        else:\n",
    "            updated.append(line)\n",
    "\n",
    "with open('sitepar.in', \"w\") as wf:\n",
    "    wf.writelines(updated)"
   ]
  },
  {
   "cell_type": "code",
   "execution_count": 132,
   "id": "ce4b2869",
   "metadata": {},
   "outputs": [
    {
     "data": {
      "text/plain": [
       "30"
      ]
     },
     "execution_count": 132,
     "metadata": {},
     "output_type": "execute_result"
    }
   ],
   "source": [
    "len(dff)"
   ]
  },
  {
   "cell_type": "code",
   "execution_count": 125,
   "id": "fdc6b712",
   "metadata": {},
   "outputs": [
    {
     "ename": "SyntaxError",
     "evalue": "incomplete input (1639655778.py, line 1)",
     "output_type": "error",
     "traceback": [
      "\u001b[1;36m  Cell \u001b[1;32mIn[125], line 1\u001b[1;36m\u001b[0m\n\u001b[1;33m    with open('sitepar.in', \"r\") as f:\u001b[0m\n\u001b[1;37m                                      ^\u001b[0m\n\u001b[1;31mSyntaxError\u001b[0m\u001b[1;31m:\u001b[0m incomplete input\n"
     ]
    }
   ],
   "source": [
    "with open('sitepar.in', \"r\") as f:"
   ]
  },
  {
   "cell_type": "code",
   "execution_count": null,
   "id": "c16d1a2b",
   "metadata": {},
   "outputs": [],
   "source": []
  },
  {
   "cell_type": "code",
   "execution_count": null,
   "id": "3384b998",
   "metadata": {},
   "outputs": [],
   "source": []
  },
  {
   "cell_type": "code",
   "execution_count": null,
   "id": "36c4c48d",
   "metadata": {},
   "outputs": [],
   "source": []
  }
 ],
 "metadata": {
  "kernelspec": {
   "display_name": "Python 3 (ipykernel)",
   "language": "python",
   "name": "python3"
  },
  "language_info": {
   "codemirror_mode": {
    "name": "ipython",
    "version": 3
   },
   "file_extension": ".py",
   "mimetype": "text/x-python",
   "name": "python",
   "nbconvert_exporter": "python",
   "pygments_lexer": "ipython3",
   "version": "3.10.8"
  }
 },
 "nbformat": 4,
 "nbformat_minor": 5
}
