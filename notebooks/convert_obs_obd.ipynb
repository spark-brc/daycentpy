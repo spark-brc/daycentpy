{
 "cells": [
  {
   "cell_type": "code",
   "execution_count": 12,
   "id": "7795bf61",
   "metadata": {},
   "outputs": [],
   "source": [
    "import pandas as pd\n",
    "import os\n",
    "import glob"
   ]
  },
  {
   "cell_type": "code",
   "execution_count": null,
   "id": "cae07b9f",
   "metadata": {},
   "outputs": [],
   "source": []
  },
  {
   "cell_type": "code",
   "execution_count": 46,
   "id": "8ad6ace8",
   "metadata": {},
   "outputs": [],
   "source": [
    "wddir = \"d:/Projects/Tools/DayCent-CUTE/analysis/k-fold/\""
   ]
  },
  {
   "cell_type": "code",
   "execution_count": 47,
   "id": "c381d33d",
   "metadata": {},
   "outputs": [],
   "source": [
    "md_dir = os.path.join(wd, \"DayCent_data\")"
   ]
  },
  {
   "cell_type": "code",
   "execution_count": 48,
   "id": "81ef26a0",
   "metadata": {},
   "outputs": [],
   "source": [
    "obs_dir = os.path.join(wd, \"Obs\")"
   ]
  },
  {
   "cell_type": "code",
   "execution_count": 49,
   "id": "053863d2",
   "metadata": {},
   "outputs": [],
   "source": [
    "os.chdir(md_dir)\n",
    "md_list = next(os.walk('.'))[1]"
   ]
  },
  {
   "cell_type": "code",
   "execution_count": 50,
   "id": "c8b54c5d",
   "metadata": {},
   "outputs": [],
   "source": [
    "os.chdir(obs_dir)\n",
    "obs_files = glob.glob('*.csv')"
   ]
  },
  {
   "cell_type": "code",
   "execution_count": 51,
   "id": "442bf29d",
   "metadata": {},
   "outputs": [
    {
     "data": {
      "text/plain": [
       "'Broadbalk'"
      ]
     },
     "execution_count": 51,
     "metadata": {},
     "output_type": "execute_result"
    }
   ],
   "source": [
    "md_list[0]"
   ]
  },
  {
   "cell_type": "code",
   "execution_count": 52,
   "id": "46231d39",
   "metadata": {},
   "outputs": [],
   "source": [
    "def cov_obs_obd(obs_dir, md_dir, site_name):\n",
    "    os.chdir(obs_dir)\n",
    "    soc_df = pd.read_csv(f'soc_{site_name}.csv')\n",
    "    soc_columns = soc_df.columns[1:].tolist()\n",
    "    soc_df = soc_df.rename(columns={'Yr':'Year'})\n",
    "    for i in soc_columns:\n",
    "        soc_df = soc_df.rename(columns={i: f\"{site_name}_{i}\"})\n",
    "    os.chdir(os.path.join(md_dir, site_name))\n",
    "    soc_df.to_csv('soc_obd.csv', index=False)"
   ]
  },
  {
   "cell_type": "code",
   "execution_count": 53,
   "id": "f63fde27",
   "metadata": {},
   "outputs": [],
   "source": [
    "for i in md_list:\n",
    "    cov_obs_obd(obs_dir, md_dir, i)"
   ]
  },
  {
   "cell_type": "code",
   "execution_count": 41,
   "id": "6cc88964",
   "metadata": {},
   "outputs": [
    {
     "data": {
      "text/plain": [
       "['Broadbalk',\n",
       " 'Brookings',\n",
       " 'Dalhart',\n",
       " 'Davis',\n",
       " 'DixonSprings',\n",
       " 'FivePoints',\n",
       " 'FortCollins',\n",
       " 'FortValley',\n",
       " 'Goias',\n",
       " 'Hoytville',\n",
       " 'Ithaca2',\n",
       " 'IthacaNE',\n",
       " 'LethbridgeABC',\n",
       " 'Lethbridge_manure',\n",
       " 'Lexington',\n",
       " 'Mandan',\n",
       " 'Mead2',\n",
       " 'NarrabriField6',\n",
       " 'NarrabriFieldC1',\n",
       " 'NarrabriFieldD1',\n",
       " 'ORpegn',\n",
       " 'Rodale',\n",
       " 'Rosemount',\n",
       " 'RussellRanch',\n",
       " 'Saginaw',\n",
       " 'Sidney',\n",
       " 'SouthCharleston',\n",
       " 'SwiftCurrent',\n",
       " 'Tribune',\n",
       " 'Wooster']"
      ]
     },
     "execution_count": 41,
     "metadata": {},
     "output_type": "execute_result"
    }
   ],
   "source": [
    "md_list"
   ]
  },
  {
   "cell_type": "code",
   "execution_count": null,
   "id": "5c0a4386",
   "metadata": {},
   "outputs": [],
   "source": []
  }
 ],
 "metadata": {
  "kernelspec": {
   "display_name": "Python 3 (ipykernel)",
   "language": "python",
   "name": "python3"
  },
  "language_info": {
   "codemirror_mode": {
    "name": "ipython",
    "version": 3
   },
   "file_extension": ".py",
   "mimetype": "text/x-python",
   "name": "python",
   "nbconvert_exporter": "python",
   "pygments_lexer": "ipython3",
   "version": "3.11.0"
  }
 },
 "nbformat": 4,
 "nbformat_minor": 5
}
